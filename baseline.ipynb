{
  "nbformat": 4,
  "nbformat_minor": 0,
  "metadata": {
    "colab": {
      "name": "Copy of yandex.ipynb",
      "provenance": [],
      "collapsed_sections": [],
      "include_colab_link": true
    },
    "kernelspec": {
      "display_name": "Python 3",
      "language": "python",
      "name": "python3"
    },
    "language_info": {
      "codemirror_mode": {
        "name": "ipython",
        "version": 3
      },
      "file_extension": ".py",
      "mimetype": "text/x-python",
      "name": "python",
      "nbconvert_exporter": "python",
      "pygments_lexer": "ipython3",
      "version": "3.7.4"
    }
  },
  "cells": [
    {
      "cell_type": "markdown",
      "metadata": {
        "id": "view-in-github",
        "colab_type": "text"
      },
      "source": [
        "<a href=\"https://colab.research.google.com/github/nuvard/Where-to-eat/blob/master/baseline.ipynb\" target=\"_parent\"><img src=\"https://colab.research.google.com/assets/colab-badge.svg\" alt=\"Open In Colab\"/></a>"
      ]
    },
    {
      "cell_type": "code",
      "metadata": {
        "id": "H3PcpyGSC1Ns",
        "colab_type": "code",
        "outputId": "292ee646-2d59-4c75-c6d5-a25e892bad17",
        "colab": {
          "base_uri": "https://localhost:8080/",
          "height": 121
        }
      },
      "source": [
        "!git clone https://github.com/nuvard/Where-to-eat.git\n",
        "\n",
        "path = '/content/Where-to-eat/'"
      ],
      "execution_count": 186,
      "outputs": [
        {
          "output_type": "stream",
          "text": [
            "Cloning into 'Where-to-eat'...\n",
            "remote: Enumerating objects: 34, done.\n",
            "remote: Counting objects: 100% (34/34), done.\n",
            "remote: Compressing objects: 100% (31/31), done.\n",
            "remote: Total 34 (delta 11), reused 3 (delta 1), pack-reused 0\n",
            "Unpacking objects: 100% (34/34), done.\n"
          ],
          "name": "stdout"
        }
      ]
    },
    {
      "cell_type": "code",
      "metadata": {
        "id": "x8k23I-44HGn",
        "colab_type": "code",
        "colab": {}
      },
      "source": [
        "import pandas as pd\n",
        "df = pd.read_csv(path+'data/yandex_rests_preprocessed.csv')"
      ],
      "execution_count": 0,
      "outputs": []
    },
    {
      "cell_type": "code",
      "metadata": {
        "id": "21kDiYUBKozu",
        "colab_type": "code",
        "colab": {
          "base_uri": "https://localhost:8080/",
          "height": 434
        },
        "outputId": "c0215624-b5b4-4528-a3d3-6c0a143288af"
      },
      "source": [
        "df.columns"
      ],
      "execution_count": 221,
      "outputs": [
        {
          "output_type": "execute_result",
          "data": {
            "text/plain": [
              "Index(['lat', 'lng', 'name', 'rating_yandex', 'review_count', 'reviews',\n",
              "       'discount_10', 'discount_15', 'discount_20', 'discount_50',\n",
              "       'discount_7', 'Завтраки в ресторане МА', 'Счастливые часы',\n",
              "       'барная стойка', 'бесплатная парковка', 'бранчи', 'винная карта',\n",
              "       'детская анимация', 'живая музыка', 'закрытие под банкет',\n",
              "       'круглосуточная кухня', 'кулинария', 'кухня_авторская',\n",
              "       'кухня_азербайджанская', 'кухня_азиатская', 'кухня_американская',\n",
              "       'кухня_английская', 'кухня_армянская', 'кухня_белорусская',\n",
              "       'кухня_веганская', 'кухня_вегетарианская', 'кухня_восточная',\n",
              "       'кухня_греческая', 'кухня_грузинская', 'кухня_домашняя',\n",
              "       'кухня_еврейская', 'кухня_европейская', 'кухня_индийская',\n",
              "       'кухня_индонезийская', 'кухня_ирландская', 'кухня_испанская',\n",
              "       'кухня_итальянская', 'кухня_кавказская', 'кухня_китайская',\n",
              "       'кухня_континентальная', 'кухня_корейская', 'кухня_латиноамериканская',\n",
              "       'кухня_международная', 'кухня_мексиканская', 'кухня_морская',\n",
              "       'кухня_мясная', 'кухня_национальная', 'кухня_немецкая',\n",
              "       'кухня_неткухня_специализации', 'кухня_паназиатская', 'кухня_русская',\n",
              "       'кухня_рыбная', 'кухня_сербская', 'кухня_скандинавская',\n",
              "       'кухня_смешанная', 'кухня_средиземноморская', 'кухня_тайская',\n",
              "       'кухня_узбекская', 'кухня_украинская', 'кухня_французская',\n",
              "       'кухня_фьюжн', 'кухня_чешская', 'кухня_шашлык', 'кухня_японская',\n",
              "       'меню на английском', 'местоположение у воды', 'настольные игры',\n",
              "       'своя пекарня', 'танцпол'],\n",
              "      dtype='object')"
            ]
          },
          "metadata": {
            "tags": []
          },
          "execution_count": 221
        }
      ]
    },
    {
      "cell_type": "code",
      "metadata": {
        "id": "EXD-GmuzrA5x",
        "colab_type": "code",
        "colab": {
          "base_uri": "https://localhost:8080/",
          "height": 368
        },
        "outputId": "f697ff66-2ee3-4760-896c-88a099796ddc"
      },
      "source": [
        "df  = df.drop(columns = ['rating_yandex_norm', 'review_count_norm', 'popularity',\n",
        "       'kitchen', ' DJ', ' барная стойка', ' бесплатная парковка',\n",
        "       ' винная карта', ' живая музыка', ' закрытие под банкет',\n",
        "       ' круглосуточная кухня', ' меню на английском',\n",
        "       ' местоположение у воды', ' настольные игры', ' своя пекарня',\n",
        "       ' устричный бар', '24_hour', 'DJ',\n",
        "       \"Restopub Finnegan's приглашает на бизнес ланч\", 'link'])"
      ],
      "execution_count": 222,
      "outputs": [
        {
          "output_type": "error",
          "ename": "KeyError",
          "evalue": "ignored",
          "traceback": [
            "\u001b[0;31m---------------------------------------------------------------------------\u001b[0m",
            "\u001b[0;31mKeyError\u001b[0m                                  Traceback (most recent call last)",
            "\u001b[0;32m<ipython-input-222-e620f0cab5c0>\u001b[0m in \u001b[0;36m<module>\u001b[0;34m()\u001b[0m\n\u001b[1;32m      5\u001b[0m        \u001b[0;34m' местоположение у воды'\u001b[0m\u001b[0;34m,\u001b[0m \u001b[0;34m' настольные игры'\u001b[0m\u001b[0;34m,\u001b[0m \u001b[0;34m' своя пекарня'\u001b[0m\u001b[0;34m,\u001b[0m\u001b[0;34m\u001b[0m\u001b[0;34m\u001b[0m\u001b[0m\n\u001b[1;32m      6\u001b[0m        \u001b[0;34m' устричный бар'\u001b[0m\u001b[0;34m,\u001b[0m \u001b[0;34m'24_hour'\u001b[0m\u001b[0;34m,\u001b[0m \u001b[0;34m'DJ'\u001b[0m\u001b[0;34m,\u001b[0m\u001b[0;34m\u001b[0m\u001b[0;34m\u001b[0m\u001b[0m\n\u001b[0;32m----> 7\u001b[0;31m        \"Restopub Finnegan's приглашает на бизнес ланч\", 'link'])\n\u001b[0m",
            "\u001b[0;32m/usr/local/lib/python3.6/dist-packages/pandas/core/frame.py\u001b[0m in \u001b[0;36mdrop\u001b[0;34m(self, labels, axis, index, columns, level, inplace, errors)\u001b[0m\n\u001b[1;32m   4115\u001b[0m             \u001b[0mlevel\u001b[0m\u001b[0;34m=\u001b[0m\u001b[0mlevel\u001b[0m\u001b[0;34m,\u001b[0m\u001b[0;34m\u001b[0m\u001b[0;34m\u001b[0m\u001b[0m\n\u001b[1;32m   4116\u001b[0m             \u001b[0minplace\u001b[0m\u001b[0;34m=\u001b[0m\u001b[0minplace\u001b[0m\u001b[0;34m,\u001b[0m\u001b[0;34m\u001b[0m\u001b[0;34m\u001b[0m\u001b[0m\n\u001b[0;32m-> 4117\u001b[0;31m             \u001b[0merrors\u001b[0m\u001b[0;34m=\u001b[0m\u001b[0merrors\u001b[0m\u001b[0;34m,\u001b[0m\u001b[0;34m\u001b[0m\u001b[0;34m\u001b[0m\u001b[0m\n\u001b[0m\u001b[1;32m   4118\u001b[0m         )\n\u001b[1;32m   4119\u001b[0m \u001b[0;34m\u001b[0m\u001b[0m\n",
            "\u001b[0;32m/usr/local/lib/python3.6/dist-packages/pandas/core/generic.py\u001b[0m in \u001b[0;36mdrop\u001b[0;34m(self, labels, axis, index, columns, level, inplace, errors)\u001b[0m\n\u001b[1;32m   3912\u001b[0m         \u001b[0;32mfor\u001b[0m \u001b[0maxis\u001b[0m\u001b[0;34m,\u001b[0m \u001b[0mlabels\u001b[0m \u001b[0;32min\u001b[0m \u001b[0maxes\u001b[0m\u001b[0;34m.\u001b[0m\u001b[0mitems\u001b[0m\u001b[0;34m(\u001b[0m\u001b[0;34m)\u001b[0m\u001b[0;34m:\u001b[0m\u001b[0;34m\u001b[0m\u001b[0;34m\u001b[0m\u001b[0m\n\u001b[1;32m   3913\u001b[0m             \u001b[0;32mif\u001b[0m \u001b[0mlabels\u001b[0m \u001b[0;32mis\u001b[0m \u001b[0;32mnot\u001b[0m \u001b[0;32mNone\u001b[0m\u001b[0;34m:\u001b[0m\u001b[0;34m\u001b[0m\u001b[0;34m\u001b[0m\u001b[0m\n\u001b[0;32m-> 3914\u001b[0;31m                 \u001b[0mobj\u001b[0m \u001b[0;34m=\u001b[0m \u001b[0mobj\u001b[0m\u001b[0;34m.\u001b[0m\u001b[0m_drop_axis\u001b[0m\u001b[0;34m(\u001b[0m\u001b[0mlabels\u001b[0m\u001b[0;34m,\u001b[0m \u001b[0maxis\u001b[0m\u001b[0;34m,\u001b[0m \u001b[0mlevel\u001b[0m\u001b[0;34m=\u001b[0m\u001b[0mlevel\u001b[0m\u001b[0;34m,\u001b[0m \u001b[0merrors\u001b[0m\u001b[0;34m=\u001b[0m\u001b[0merrors\u001b[0m\u001b[0;34m)\u001b[0m\u001b[0;34m\u001b[0m\u001b[0;34m\u001b[0m\u001b[0m\n\u001b[0m\u001b[1;32m   3915\u001b[0m \u001b[0;34m\u001b[0m\u001b[0m\n\u001b[1;32m   3916\u001b[0m         \u001b[0;32mif\u001b[0m \u001b[0minplace\u001b[0m\u001b[0;34m:\u001b[0m\u001b[0;34m\u001b[0m\u001b[0;34m\u001b[0m\u001b[0m\n",
            "\u001b[0;32m/usr/local/lib/python3.6/dist-packages/pandas/core/generic.py\u001b[0m in \u001b[0;36m_drop_axis\u001b[0;34m(self, labels, axis, level, errors)\u001b[0m\n\u001b[1;32m   3944\u001b[0m                 \u001b[0mnew_axis\u001b[0m \u001b[0;34m=\u001b[0m \u001b[0maxis\u001b[0m\u001b[0;34m.\u001b[0m\u001b[0mdrop\u001b[0m\u001b[0;34m(\u001b[0m\u001b[0mlabels\u001b[0m\u001b[0;34m,\u001b[0m \u001b[0mlevel\u001b[0m\u001b[0;34m=\u001b[0m\u001b[0mlevel\u001b[0m\u001b[0;34m,\u001b[0m \u001b[0merrors\u001b[0m\u001b[0;34m=\u001b[0m\u001b[0merrors\u001b[0m\u001b[0;34m)\u001b[0m\u001b[0;34m\u001b[0m\u001b[0;34m\u001b[0m\u001b[0m\n\u001b[1;32m   3945\u001b[0m             \u001b[0;32melse\u001b[0m\u001b[0;34m:\u001b[0m\u001b[0;34m\u001b[0m\u001b[0;34m\u001b[0m\u001b[0m\n\u001b[0;32m-> 3946\u001b[0;31m                 \u001b[0mnew_axis\u001b[0m \u001b[0;34m=\u001b[0m \u001b[0maxis\u001b[0m\u001b[0;34m.\u001b[0m\u001b[0mdrop\u001b[0m\u001b[0;34m(\u001b[0m\u001b[0mlabels\u001b[0m\u001b[0;34m,\u001b[0m \u001b[0merrors\u001b[0m\u001b[0;34m=\u001b[0m\u001b[0merrors\u001b[0m\u001b[0;34m)\u001b[0m\u001b[0;34m\u001b[0m\u001b[0;34m\u001b[0m\u001b[0m\n\u001b[0m\u001b[1;32m   3947\u001b[0m             \u001b[0mresult\u001b[0m \u001b[0;34m=\u001b[0m \u001b[0mself\u001b[0m\u001b[0;34m.\u001b[0m\u001b[0mreindex\u001b[0m\u001b[0;34m(\u001b[0m\u001b[0;34m**\u001b[0m\u001b[0;34m{\u001b[0m\u001b[0maxis_name\u001b[0m\u001b[0;34m:\u001b[0m \u001b[0mnew_axis\u001b[0m\u001b[0;34m}\u001b[0m\u001b[0;34m)\u001b[0m\u001b[0;34m\u001b[0m\u001b[0;34m\u001b[0m\u001b[0m\n\u001b[1;32m   3948\u001b[0m \u001b[0;34m\u001b[0m\u001b[0m\n",
            "\u001b[0;32m/usr/local/lib/python3.6/dist-packages/pandas/core/indexes/base.py\u001b[0m in \u001b[0;36mdrop\u001b[0;34m(self, labels, errors)\u001b[0m\n\u001b[1;32m   5338\u001b[0m         \u001b[0;32mif\u001b[0m \u001b[0mmask\u001b[0m\u001b[0;34m.\u001b[0m\u001b[0many\u001b[0m\u001b[0;34m(\u001b[0m\u001b[0;34m)\u001b[0m\u001b[0;34m:\u001b[0m\u001b[0;34m\u001b[0m\u001b[0;34m\u001b[0m\u001b[0m\n\u001b[1;32m   5339\u001b[0m             \u001b[0;32mif\u001b[0m \u001b[0merrors\u001b[0m \u001b[0;34m!=\u001b[0m \u001b[0;34m\"ignore\"\u001b[0m\u001b[0;34m:\u001b[0m\u001b[0;34m\u001b[0m\u001b[0;34m\u001b[0m\u001b[0m\n\u001b[0;32m-> 5340\u001b[0;31m                 \u001b[0;32mraise\u001b[0m \u001b[0mKeyError\u001b[0m\u001b[0;34m(\u001b[0m\u001b[0;34m\"{} not found in axis\"\u001b[0m\u001b[0;34m.\u001b[0m\u001b[0mformat\u001b[0m\u001b[0;34m(\u001b[0m\u001b[0mlabels\u001b[0m\u001b[0;34m[\u001b[0m\u001b[0mmask\u001b[0m\u001b[0;34m]\u001b[0m\u001b[0;34m)\u001b[0m\u001b[0;34m)\u001b[0m\u001b[0;34m\u001b[0m\u001b[0;34m\u001b[0m\u001b[0m\n\u001b[0m\u001b[1;32m   5341\u001b[0m             \u001b[0mindexer\u001b[0m \u001b[0;34m=\u001b[0m \u001b[0mindexer\u001b[0m\u001b[0;34m[\u001b[0m\u001b[0;34m~\u001b[0m\u001b[0mmask\u001b[0m\u001b[0;34m]\u001b[0m\u001b[0;34m\u001b[0m\u001b[0;34m\u001b[0m\u001b[0m\n\u001b[1;32m   5342\u001b[0m         \u001b[0;32mreturn\u001b[0m \u001b[0mself\u001b[0m\u001b[0;34m.\u001b[0m\u001b[0mdelete\u001b[0m\u001b[0;34m(\u001b[0m\u001b[0mindexer\u001b[0m\u001b[0;34m)\u001b[0m\u001b[0;34m\u001b[0m\u001b[0;34m\u001b[0m\u001b[0m\n",
            "\u001b[0;31mKeyError\u001b[0m: '[\\'rating_yandex_norm\\' \\'review_count_norm\\' \\'popularity\\' \\'kitchen\\' \\' DJ\\'\\n \\' барная стойка\\' \\' бесплатная парковка\\' \\' винная карта\\' \\' живая музыка\\'\\n \\' закрытие под банкет\\' \\' круглосуточная кухня\\' \\' меню на английском\\'\\n \\' местоположение у воды\\' \\' настольные игры\\' \\' своя пекарня\\'\\n \\' устричный бар\\' \\'24_hour\\' \\'DJ\\'\\n \"Restopub Finnegan\\'s приглашает на бизнес ланч\" \\'link\\'] not found in axis'"
          ]
        }
      ]
    },
    {
      "cell_type": "code",
      "metadata": {
        "id": "4gxMvosMTA10",
        "colab_type": "code",
        "colab": {}
      },
      "source": [
        "df = df.loc[df.lng.isna()==False,]"
      ],
      "execution_count": 0,
      "outputs": []
    },
    {
      "cell_type": "code",
      "metadata": {
        "id": "Y6y0MEArKac-",
        "colab_type": "code",
        "colab": {}
      },
      "source": [
        "df.to_csv(path+'data/yandex_rests_preprocessed.csv', index=False)"
      ],
      "execution_count": 0,
      "outputs": []
    },
    {
      "cell_type": "code",
      "metadata": {
        "id": "72_z4r2ALdsm",
        "colab_type": "code",
        "colab": {
          "base_uri": "https://localhost:8080/",
          "height": 1000
        },
        "outputId": "4ad4b6a7-b33f-4f1d-c014-1753b13565de"
      },
      "source": [
        "!pip install h2o\n",
        "import h2o\n",
        "\n",
        "h2o.init()\n"
      ],
      "execution_count": 8,
      "outputs": [
        {
          "output_type": "stream",
          "text": [
            "Collecting h2o\n",
            "\u001b[?25l  Downloading https://files.pythonhosted.org/packages/26/50/74c2d1393d657b7cbf2ff38bb8338f4c83db36d2013e5d6e497a6f5021a3/h2o-3.26.0.9.tar.gz (123.7MB)\n",
            "\u001b[K     |████████████████████████████████| 123.7MB 78kB/s \n",
            "\u001b[?25hRequirement already satisfied: requests in /usr/local/lib/python3.6/dist-packages (from h2o) (2.21.0)\n",
            "Requirement already satisfied: tabulate in /usr/local/lib/python3.6/dist-packages (from h2o) (0.8.5)\n",
            "Requirement already satisfied: future in /usr/local/lib/python3.6/dist-packages (from h2o) (0.16.0)\n",
            "Collecting colorama>=0.3.8\n",
            "  Downloading https://files.pythonhosted.org/packages/4f/a6/728666f39bfff1719fc94c481890b2106837da9318031f71a8424b662e12/colorama-0.4.1-py2.py3-none-any.whl\n",
            "Requirement already satisfied: idna<2.9,>=2.5 in /usr/local/lib/python3.6/dist-packages (from requests->h2o) (2.8)\n",
            "Requirement already satisfied: certifi>=2017.4.17 in /usr/local/lib/python3.6/dist-packages (from requests->h2o) (2019.9.11)\n",
            "Requirement already satisfied: urllib3<1.25,>=1.21.1 in /usr/local/lib/python3.6/dist-packages (from requests->h2o) (1.24.3)\n",
            "Requirement already satisfied: chardet<3.1.0,>=3.0.2 in /usr/local/lib/python3.6/dist-packages (from requests->h2o) (3.0.4)\n",
            "Building wheels for collected packages: h2o\n",
            "  Building wheel for h2o (setup.py) ... \u001b[?25l\u001b[?25hdone\n",
            "  Created wheel for h2o: filename=h2o-3.26.0.9-py2.py3-none-any.whl size=123719079 sha256=5d7c7ac64395a45928dea07123cb4aa09fd08ed3f403f2fe53424082b44de66d\n",
            "  Stored in directory: /root/.cache/pip/wheels/ff/a9/36/487108894572fb92f9262ef16b3db700601992274b9705b214\n",
            "Successfully built h2o\n",
            "Installing collected packages: colorama, h2o\n",
            "Successfully installed colorama-0.4.1 h2o-3.26.0.9\n",
            "Checking whether there is an H2O instance running at http://localhost:54321 ..... not found.\n",
            "Attempting to start a local H2O server...\n",
            "  Java Version: openjdk version \"11.0.4\" 2019-07-16; OpenJDK Runtime Environment (build 11.0.4+11-post-Ubuntu-1ubuntu218.04.3); OpenJDK 64-Bit Server VM (build 11.0.4+11-post-Ubuntu-1ubuntu218.04.3, mixed mode, sharing)\n",
            "  Starting server from /usr/local/lib/python3.6/dist-packages/h2o/backend/bin/h2o.jar\n",
            "  Ice root: /tmp/tmpd3fhitnt\n",
            "  JVM stdout: /tmp/tmpd3fhitnt/h2o_unknownUser_started_from_python.out\n",
            "  JVM stderr: /tmp/tmpd3fhitnt/h2o_unknownUser_started_from_python.err\n",
            "  Server is running at http://127.0.0.1:54321\n",
            "Connecting to H2O server at http://127.0.0.1:54321 ... successful.\n"
          ],
          "name": "stdout"
        },
        {
          "output_type": "display_data",
          "data": {
            "text/html": [
              "<div style=\"overflow:auto\"><table style=\"width:50%\"><tr><td>H2O cluster uptime:</td>\n",
              "<td>02 secs</td></tr>\n",
              "<tr><td>H2O cluster timezone:</td>\n",
              "<td>Etc/UTC</td></tr>\n",
              "<tr><td>H2O data parsing timezone:</td>\n",
              "<td>UTC</td></tr>\n",
              "<tr><td>H2O cluster version:</td>\n",
              "<td>3.26.0.9</td></tr>\n",
              "<tr><td>H2O cluster version age:</td>\n",
              "<td>4 days </td></tr>\n",
              "<tr><td>H2O cluster name:</td>\n",
              "<td>H2O_from_python_unknownUser_68csv0</td></tr>\n",
              "<tr><td>H2O cluster total nodes:</td>\n",
              "<td>1</td></tr>\n",
              "<tr><td>H2O cluster free memory:</td>\n",
              "<td>3 Gb</td></tr>\n",
              "<tr><td>H2O cluster total cores:</td>\n",
              "<td>2</td></tr>\n",
              "<tr><td>H2O cluster allowed cores:</td>\n",
              "<td>2</td></tr>\n",
              "<tr><td>H2O cluster status:</td>\n",
              "<td>accepting new members, healthy</td></tr>\n",
              "<tr><td>H2O connection url:</td>\n",
              "<td>http://127.0.0.1:54321</td></tr>\n",
              "<tr><td>H2O connection proxy:</td>\n",
              "<td>{'http': None, 'https': None}</td></tr>\n",
              "<tr><td>H2O internal security:</td>\n",
              "<td>False</td></tr>\n",
              "<tr><td>H2O API Extensions:</td>\n",
              "<td>Amazon S3, XGBoost, Algos, AutoML, Core V3, TargetEncoder, Core V4</td></tr>\n",
              "<tr><td>Python version:</td>\n",
              "<td>3.6.8 final</td></tr></table></div>"
            ],
            "text/plain": [
              "--------------------------  ------------------------------------------------------------------\n",
              "H2O cluster uptime:         02 secs\n",
              "H2O cluster timezone:       Etc/UTC\n",
              "H2O data parsing timezone:  UTC\n",
              "H2O cluster version:        3.26.0.9\n",
              "H2O cluster version age:    4 days\n",
              "H2O cluster name:           H2O_from_python_unknownUser_68csv0\n",
              "H2O cluster total nodes:    1\n",
              "H2O cluster free memory:    3 Gb\n",
              "H2O cluster total cores:    2\n",
              "H2O cluster allowed cores:  2\n",
              "H2O cluster status:         accepting new members, healthy\n",
              "H2O connection url:         http://127.0.0.1:54321\n",
              "H2O connection proxy:       {'http': None, 'https': None}\n",
              "H2O internal security:      False\n",
              "H2O API Extensions:         Amazon S3, XGBoost, Algos, AutoML, Core V3, TargetEncoder, Core V4\n",
              "Python version:             3.6.8 final\n",
              "--------------------------  ------------------------------------------------------------------"
            ]
          },
          "metadata": {
            "tags": []
          }
        }
      ]
    },
    {
      "cell_type": "code",
      "metadata": {
        "id": "NWamdhksMCH7",
        "colab_type": "code",
        "colab": {
          "base_uri": "https://localhost:8080/",
          "height": 34
        },
        "outputId": "fe5d9044-8eb6-4092-dc2d-119c290da995"
      },
      "source": [
        "fr = h2o.import_file(path=path+'data/yandex_rests_preprocessed.csv')   # import prostate data\n",
        "\n",
        "from h2o.estimators.gbm import H2OGradientBoostingEstimator  # import gbm estimator\n",
        "\n"
      ],
      "execution_count": 90,
      "outputs": [
        {
          "output_type": "stream",
          "text": [
            "Parse progress: |█████████████████████████████████████████████████████████| 100%\n"
          ],
          "name": "stdout"
        }
      ]
    },
    {
      "cell_type": "code",
      "metadata": {
        "id": "Iy9BXiwnWigy",
        "colab_type": "code",
        "colab": {
          "base_uri": "https://localhost:8080/",
          "height": 52
        },
        "outputId": "f9820387-d461-4167-96c0-b0ee9e79a06f"
      },
      "source": [
        "m = H2OGradientBoostingEstimator(ntrees=10, max_depth=5, nfolds = 5, seed = 42)     # setup the gbm\n",
        "\n",
        "r = fr[0].runif()                       # generate a random vector for splitting\n",
        "\n",
        "train = fr[ r < 0.7 ]                   # split out 60% for training\n",
        "\n",
        "test = fr[ 0.7 <= r ]               \n",
        "\n",
        "m.train(x=fr.names[0:2]+fr.names[5:], y=\"rating_yandex\", training_frame=train \\\n",
        "        )      # train the model\n",
        "\n",
        "print(m.type)                                       "
      ],
      "execution_count": 164,
      "outputs": [
        {
          "output_type": "stream",
          "text": [
            "gbm Model Build progress: |███████████████████████████████████████████████| 100%\n",
            "regressor\n"
          ],
          "name": "stdout"
        }
      ]
    },
    {
      "cell_type": "code",
      "metadata": {
        "id": "JHb5aALxWjTl",
        "colab_type": "code",
        "colab": {
          "base_uri": "https://localhost:8080/",
          "height": 34
        },
        "outputId": "7b71fcd8-6844-44be-e274-9eaabcc4fb08"
      },
      "source": [
        "m.mse()"
      ],
      "execution_count": 165,
      "outputs": [
        {
          "output_type": "execute_result",
          "data": {
            "text/plain": [
              "0.0366769490620906"
            ]
          },
          "metadata": {
            "tags": []
          },
          "execution_count": 165
        }
      ]
    },
    {
      "cell_type": "code",
      "metadata": {
        "id": "YWOpvr_3YzDp",
        "colab_type": "code",
        "colab": {
          "base_uri": "https://localhost:8080/",
          "height": 173
        },
        "outputId": "7fee0a50-a906-4362-d3c0-5b24b86f1a88"
      },
      "source": [
        "m.model_performance()"
      ],
      "execution_count": 166,
      "outputs": [
        {
          "output_type": "stream",
          "text": [
            "\n",
            "ModelMetricsRegression: gbm\n",
            "** Reported on train data. **\n",
            "\n",
            "MSE: 0.0366769490620906\n",
            "RMSE: 0.19151226869861523\n",
            "MAE: 0.12395806250760857\n",
            "RMSLE: 0.0474138755223173\n",
            "Mean Residual Deviance: 0.0366769490620906\n"
          ],
          "name": "stdout"
        },
        {
          "output_type": "execute_result",
          "data": {
            "text/plain": [
              ""
            ]
          },
          "metadata": {
            "tags": []
          },
          "execution_count": 166
        }
      ]
    },
    {
      "cell_type": "code",
      "metadata": {
        "id": "fweArygoZJ__",
        "colab_type": "code",
        "colab": {}
      },
      "source": [
        "train_metrics = m.model_performance()"
      ],
      "execution_count": 0,
      "outputs": []
    },
    {
      "cell_type": "code",
      "metadata": {
        "id": "pHOMJNpUYz5t",
        "colab_type": "code",
        "colab": {}
      },
      "source": [
        "test_metrics = m.model_performance(test_data=test)"
      ],
      "execution_count": 0,
      "outputs": []
    },
    {
      "cell_type": "code",
      "metadata": {
        "id": "YlwI4Ue3ZBRm",
        "colab_type": "code",
        "colab": {
          "base_uri": "https://localhost:8080/",
          "height": 173
        },
        "outputId": "48550a71-b92e-4a63-c4cb-738d21a7c0b7"
      },
      "source": [
        "test_metrics"
      ],
      "execution_count": 67,
      "outputs": [
        {
          "output_type": "stream",
          "text": [
            "\n",
            "ModelMetricsRegression: gbm\n",
            "** Reported on test data. **\n",
            "\n",
            "MSE: 0.30641974378948644\n",
            "RMSE: 0.5535519341394143\n",
            "MAE: 0.3863122870396907\n",
            "RMSLE: 0.12150382471873776\n",
            "Mean Residual Deviance: 0.30641974378948644\n"
          ],
          "name": "stdout"
        },
        {
          "output_type": "execute_result",
          "data": {
            "text/plain": [
              ""
            ]
          },
          "metadata": {
            "tags": []
          },
          "execution_count": 67
        }
      ]
    },
    {
      "cell_type": "code",
      "metadata": {
        "id": "ygveO2ljaPTh",
        "colab_type": "code",
        "colab": {
          "base_uri": "https://localhost:8080/",
          "height": 1000
        },
        "outputId": "70ce4159-dca2-4224-9b9c-e0f3e84993a7"
      },
      "source": [
        "m.r2"
      ],
      "execution_count": 167,
      "outputs": [
        {
          "output_type": "stream",
          "text": [
            "Model Details\n",
            "=============\n",
            "H2OGradientBoostingEstimator :  Gradient Boosting Machine\n",
            "Model Key:  GBM_model_python_1572783297559_10\n",
            "\n",
            "\n",
            "Model Summary: \n"
          ],
          "name": "stdout"
        },
        {
          "output_type": "display_data",
          "data": {
            "text/html": [
              "<div>\n",
              "<style scoped>\n",
              "    .dataframe tbody tr th:only-of-type {\n",
              "        vertical-align: middle;\n",
              "    }\n",
              "\n",
              "    .dataframe tbody tr th {\n",
              "        vertical-align: top;\n",
              "    }\n",
              "\n",
              "    .dataframe thead th {\n",
              "        text-align: right;\n",
              "    }\n",
              "</style>\n",
              "<table border=\"1\" class=\"dataframe\">\n",
              "  <thead>\n",
              "    <tr style=\"text-align: right;\">\n",
              "      <th></th>\n",
              "      <th></th>\n",
              "      <th>number_of_trees</th>\n",
              "      <th>number_of_internal_trees</th>\n",
              "      <th>model_size_in_bytes</th>\n",
              "      <th>min_depth</th>\n",
              "      <th>max_depth</th>\n",
              "      <th>mean_depth</th>\n",
              "      <th>min_leaves</th>\n",
              "      <th>max_leaves</th>\n",
              "      <th>mean_leaves</th>\n",
              "    </tr>\n",
              "  </thead>\n",
              "  <tbody>\n",
              "    <tr>\n",
              "      <th>0</th>\n",
              "      <td></td>\n",
              "      <td>10.0</td>\n",
              "      <td>10.0</td>\n",
              "      <td>25446.0</td>\n",
              "      <td>5.0</td>\n",
              "      <td>5.0</td>\n",
              "      <td>5.0</td>\n",
              "      <td>22.0</td>\n",
              "      <td>25.0</td>\n",
              "      <td>23.4</td>\n",
              "    </tr>\n",
              "  </tbody>\n",
              "</table>\n",
              "</div>"
            ],
            "text/plain": [
              "     number_of_trees  ...  max_leaves  mean_leaves\n",
              "0               10.0  ...        25.0         23.4\n",
              "\n",
              "[1 rows x 10 columns]"
            ]
          },
          "metadata": {
            "tags": []
          }
        },
        {
          "output_type": "stream",
          "text": [
            "\n",
            "\n",
            "ModelMetricsRegression: gbm\n",
            "** Reported on train data. **\n",
            "\n",
            "MSE: 0.0366769490620906\n",
            "RMSE: 0.19151226869861523\n",
            "MAE: 0.12395806250760857\n",
            "RMSLE: 0.0474138755223173\n",
            "Mean Residual Deviance: 0.0366769490620906\n",
            "\n",
            "ModelMetricsRegression: gbm\n",
            "** Reported on cross-validation data. **\n",
            "\n",
            "MSE: 0.22428980132484605\n",
            "RMSE: 0.4735924422167715\n",
            "MAE: 0.29606973984157187\n",
            "RMSLE: 0.10435928306254662\n",
            "Mean Residual Deviance: 0.22428980132484605\n",
            "\n",
            "Cross-Validation Metrics Summary: \n"
          ],
          "name": "stdout"
        },
        {
          "output_type": "display_data",
          "data": {
            "text/html": [
              "<div>\n",
              "<style scoped>\n",
              "    .dataframe tbody tr th:only-of-type {\n",
              "        vertical-align: middle;\n",
              "    }\n",
              "\n",
              "    .dataframe tbody tr th {\n",
              "        vertical-align: top;\n",
              "    }\n",
              "\n",
              "    .dataframe thead th {\n",
              "        text-align: right;\n",
              "    }\n",
              "</style>\n",
              "<table border=\"1\" class=\"dataframe\">\n",
              "  <thead>\n",
              "    <tr style=\"text-align: right;\">\n",
              "      <th></th>\n",
              "      <th></th>\n",
              "      <th>mean</th>\n",
              "      <th>sd</th>\n",
              "      <th>cv_1_valid</th>\n",
              "      <th>cv_2_valid</th>\n",
              "      <th>cv_3_valid</th>\n",
              "      <th>cv_4_valid</th>\n",
              "      <th>cv_5_valid</th>\n",
              "    </tr>\n",
              "  </thead>\n",
              "  <tbody>\n",
              "    <tr>\n",
              "      <th>0</th>\n",
              "      <td>mae</td>\n",
              "      <td>0.29578033</td>\n",
              "      <td>0.03312455</td>\n",
              "      <td>0.2976833</td>\n",
              "      <td>0.30308414</td>\n",
              "      <td>0.27549034</td>\n",
              "      <td>0.25739658</td>\n",
              "      <td>0.3452473</td>\n",
              "    </tr>\n",
              "    <tr>\n",
              "      <th>1</th>\n",
              "      <td>mean_residual_deviance</td>\n",
              "      <td>0.22361599</td>\n",
              "      <td>0.059131194</td>\n",
              "      <td>0.24460222</td>\n",
              "      <td>0.22967921</td>\n",
              "      <td>0.18008657</td>\n",
              "      <td>0.15609914</td>\n",
              "      <td>0.30761284</td>\n",
              "    </tr>\n",
              "    <tr>\n",
              "      <th>2</th>\n",
              "      <td>mse</td>\n",
              "      <td>0.22361599</td>\n",
              "      <td>0.059131194</td>\n",
              "      <td>0.24460222</td>\n",
              "      <td>0.22967921</td>\n",
              "      <td>0.18008657</td>\n",
              "      <td>0.15609914</td>\n",
              "      <td>0.30761284</td>\n",
              "    </tr>\n",
              "    <tr>\n",
              "      <th>3</th>\n",
              "      <td>r2</td>\n",
              "      <td>0.120788</td>\n",
              "      <td>0.07629386</td>\n",
              "      <td>0.16802539</td>\n",
              "      <td>0.1349907</td>\n",
              "      <td>0.19494642</td>\n",
              "      <td>0.108472876</td>\n",
              "      <td>-0.002495387</td>\n",
              "    </tr>\n",
              "    <tr>\n",
              "      <th>4</th>\n",
              "      <td>residual_deviance</td>\n",
              "      <td>0.22361599</td>\n",
              "      <td>0.059131194</td>\n",
              "      <td>0.24460222</td>\n",
              "      <td>0.22967921</td>\n",
              "      <td>0.18008657</td>\n",
              "      <td>0.15609914</td>\n",
              "      <td>0.30761284</td>\n",
              "    </tr>\n",
              "    <tr>\n",
              "      <th>5</th>\n",
              "      <td>rmse</td>\n",
              "      <td>0.46958196</td>\n",
              "      <td>0.062337518</td>\n",
              "      <td>0.49457276</td>\n",
              "      <td>0.47924858</td>\n",
              "      <td>0.4243661</td>\n",
              "      <td>0.39509383</td>\n",
              "      <td>0.55462855</td>\n",
              "    </tr>\n",
              "    <tr>\n",
              "      <th>6</th>\n",
              "      <td>rmsle</td>\n",
              "      <td>0.10306022</td>\n",
              "      <td>0.016762309</td>\n",
              "      <td>0.115926854</td>\n",
              "      <td>0.10295643</td>\n",
              "      <td>0.09098531</td>\n",
              "      <td>0.08256311</td>\n",
              "      <td>0.1228694</td>\n",
              "    </tr>\n",
              "  </tbody>\n",
              "</table>\n",
              "</div>"
            ],
            "text/plain": [
              "                                 mean  ...   cv_4_valid    cv_5_valid\n",
              "0                     mae  0.29578033  ...   0.25739658     0.3452473\n",
              "1  mean_residual_deviance  0.22361599  ...   0.15609914    0.30761284\n",
              "2                     mse  0.22361599  ...   0.15609914    0.30761284\n",
              "3                      r2    0.120788  ...  0.108472876  -0.002495387\n",
              "4       residual_deviance  0.22361599  ...   0.15609914    0.30761284\n",
              "5                    rmse  0.46958196  ...   0.39509383    0.55462855\n",
              "6                   rmsle  0.10306022  ...   0.08256311     0.1228694\n",
              "\n",
              "[7 rows x 8 columns]"
            ]
          },
          "metadata": {
            "tags": []
          }
        },
        {
          "output_type": "stream",
          "text": [
            "\n",
            "Scoring History: \n"
          ],
          "name": "stdout"
        },
        {
          "output_type": "display_data",
          "data": {
            "text/html": [
              "<div>\n",
              "<style scoped>\n",
              "    .dataframe tbody tr th:only-of-type {\n",
              "        vertical-align: middle;\n",
              "    }\n",
              "\n",
              "    .dataframe tbody tr th {\n",
              "        vertical-align: top;\n",
              "    }\n",
              "\n",
              "    .dataframe thead th {\n",
              "        text-align: right;\n",
              "    }\n",
              "</style>\n",
              "<table border=\"1\" class=\"dataframe\">\n",
              "  <thead>\n",
              "    <tr style=\"text-align: right;\">\n",
              "      <th></th>\n",
              "      <th></th>\n",
              "      <th>timestamp</th>\n",
              "      <th>duration</th>\n",
              "      <th>number_of_trees</th>\n",
              "      <th>training_rmse</th>\n",
              "      <th>training_mae</th>\n",
              "      <th>training_deviance</th>\n",
              "    </tr>\n",
              "  </thead>\n",
              "  <tbody>\n",
              "    <tr>\n",
              "      <th>0</th>\n",
              "      <td></td>\n",
              "      <td>2019-11-03 14:11:59</td>\n",
              "      <td>1.542 sec</td>\n",
              "      <td>0.0</td>\n",
              "      <td>0.505775</td>\n",
              "      <td>0.341628</td>\n",
              "      <td>0.255809</td>\n",
              "    </tr>\n",
              "    <tr>\n",
              "      <th>1</th>\n",
              "      <td></td>\n",
              "      <td>2019-11-03 14:11:59</td>\n",
              "      <td>1.574 sec</td>\n",
              "      <td>1.0</td>\n",
              "      <td>0.456718</td>\n",
              "      <td>0.307734</td>\n",
              "      <td>0.208591</td>\n",
              "    </tr>\n",
              "    <tr>\n",
              "      <th>2</th>\n",
              "      <td></td>\n",
              "      <td>2019-11-03 14:11:59</td>\n",
              "      <td>1.598 sec</td>\n",
              "      <td>2.0</td>\n",
              "      <td>0.412680</td>\n",
              "      <td>0.277262</td>\n",
              "      <td>0.170305</td>\n",
              "    </tr>\n",
              "    <tr>\n",
              "      <th>3</th>\n",
              "      <td></td>\n",
              "      <td>2019-11-03 14:11:59</td>\n",
              "      <td>1.623 sec</td>\n",
              "      <td>3.0</td>\n",
              "      <td>0.373199</td>\n",
              "      <td>0.250105</td>\n",
              "      <td>0.139277</td>\n",
              "    </tr>\n",
              "    <tr>\n",
              "      <th>4</th>\n",
              "      <td></td>\n",
              "      <td>2019-11-03 14:11:59</td>\n",
              "      <td>1.644 sec</td>\n",
              "      <td>4.0</td>\n",
              "      <td>0.337780</td>\n",
              "      <td>0.225677</td>\n",
              "      <td>0.114095</td>\n",
              "    </tr>\n",
              "    <tr>\n",
              "      <th>5</th>\n",
              "      <td></td>\n",
              "      <td>2019-11-03 14:11:59</td>\n",
              "      <td>1.669 sec</td>\n",
              "      <td>5.0</td>\n",
              "      <td>0.306009</td>\n",
              "      <td>0.203684</td>\n",
              "      <td>0.093641</td>\n",
              "    </tr>\n",
              "    <tr>\n",
              "      <th>6</th>\n",
              "      <td></td>\n",
              "      <td>2019-11-03 14:11:59</td>\n",
              "      <td>1.692 sec</td>\n",
              "      <td>6.0</td>\n",
              "      <td>0.277655</td>\n",
              "      <td>0.184053</td>\n",
              "      <td>0.077092</td>\n",
              "    </tr>\n",
              "    <tr>\n",
              "      <th>7</th>\n",
              "      <td></td>\n",
              "      <td>2019-11-03 14:11:59</td>\n",
              "      <td>1.715 sec</td>\n",
              "      <td>7.0</td>\n",
              "      <td>0.252230</td>\n",
              "      <td>0.166472</td>\n",
              "      <td>0.063620</td>\n",
              "    </tr>\n",
              "    <tr>\n",
              "      <th>8</th>\n",
              "      <td></td>\n",
              "      <td>2019-11-03 14:11:59</td>\n",
              "      <td>1.743 sec</td>\n",
              "      <td>8.0</td>\n",
              "      <td>0.229612</td>\n",
              "      <td>0.150719</td>\n",
              "      <td>0.052722</td>\n",
              "    </tr>\n",
              "    <tr>\n",
              "      <th>9</th>\n",
              "      <td></td>\n",
              "      <td>2019-11-03 14:11:59</td>\n",
              "      <td>1.770 sec</td>\n",
              "      <td>9.0</td>\n",
              "      <td>0.209460</td>\n",
              "      <td>0.136567</td>\n",
              "      <td>0.043873</td>\n",
              "    </tr>\n",
              "    <tr>\n",
              "      <th>10</th>\n",
              "      <td></td>\n",
              "      <td>2019-11-03 14:11:59</td>\n",
              "      <td>1.798 sec</td>\n",
              "      <td>10.0</td>\n",
              "      <td>0.191512</td>\n",
              "      <td>0.123958</td>\n",
              "      <td>0.036677</td>\n",
              "    </tr>\n",
              "  </tbody>\n",
              "</table>\n",
              "</div>"
            ],
            "text/plain": [
              "                timestamp  ... training_mae  training_deviance\n",
              "0     2019-11-03 14:11:59  ...     0.341628           0.255809\n",
              "1     2019-11-03 14:11:59  ...     0.307734           0.208591\n",
              "2     2019-11-03 14:11:59  ...     0.277262           0.170305\n",
              "3     2019-11-03 14:11:59  ...     0.250105           0.139277\n",
              "4     2019-11-03 14:11:59  ...     0.225677           0.114095\n",
              "5     2019-11-03 14:11:59  ...     0.203684           0.093641\n",
              "6     2019-11-03 14:11:59  ...     0.184053           0.077092\n",
              "7     2019-11-03 14:11:59  ...     0.166472           0.063620\n",
              "8     2019-11-03 14:11:59  ...     0.150719           0.052722\n",
              "9     2019-11-03 14:11:59  ...     0.136567           0.043873\n",
              "10    2019-11-03 14:11:59  ...     0.123958           0.036677\n",
              "\n",
              "[11 rows x 7 columns]"
            ]
          },
          "metadata": {
            "tags": []
          }
        },
        {
          "output_type": "stream",
          "text": [
            "\n",
            "Variable Importances: \n"
          ],
          "name": "stdout"
        },
        {
          "output_type": "display_data",
          "data": {
            "text/html": [
              "<div>\n",
              "<style scoped>\n",
              "    .dataframe tbody tr th:only-of-type {\n",
              "        vertical-align: middle;\n",
              "    }\n",
              "\n",
              "    .dataframe tbody tr th {\n",
              "        vertical-align: top;\n",
              "    }\n",
              "\n",
              "    .dataframe thead th {\n",
              "        text-align: right;\n",
              "    }\n",
              "</style>\n",
              "<table border=\"1\" class=\"dataframe\">\n",
              "  <thead>\n",
              "    <tr style=\"text-align: right;\">\n",
              "      <th></th>\n",
              "      <th>variable</th>\n",
              "      <th>relative_importance</th>\n",
              "      <th>scaled_importance</th>\n",
              "      <th>percentage</th>\n",
              "    </tr>\n",
              "  </thead>\n",
              "  <tbody>\n",
              "    <tr>\n",
              "      <th>0</th>\n",
              "      <td>name</td>\n",
              "      <td>843.741882</td>\n",
              "      <td>1.000000</td>\n",
              "      <td>0.998104</td>\n",
              "    </tr>\n",
              "    <tr>\n",
              "      <th>1</th>\n",
              "      <td>lng</td>\n",
              "      <td>1.461385</td>\n",
              "      <td>0.001732</td>\n",
              "      <td>0.001729</td>\n",
              "    </tr>\n",
              "    <tr>\n",
              "      <th>2</th>\n",
              "      <td>кухня_итальянская</td>\n",
              "      <td>0.046581</td>\n",
              "      <td>0.000055</td>\n",
              "      <td>0.000055</td>\n",
              "    </tr>\n",
              "    <tr>\n",
              "      <th>3</th>\n",
              "      <td>живая музыка</td>\n",
              "      <td>0.027903</td>\n",
              "      <td>0.000033</td>\n",
              "      <td>0.000033</td>\n",
              "    </tr>\n",
              "    <tr>\n",
              "      <th>4</th>\n",
              "      <td>своя пекарня</td>\n",
              "      <td>0.025612</td>\n",
              "      <td>0.000030</td>\n",
              "      <td>0.000030</td>\n",
              "    </tr>\n",
              "    <tr>\n",
              "      <th>5</th>\n",
              "      <td>барная стойка</td>\n",
              "      <td>0.023311</td>\n",
              "      <td>0.000028</td>\n",
              "      <td>0.000028</td>\n",
              "    </tr>\n",
              "    <tr>\n",
              "      <th>6</th>\n",
              "      <td>кухня_авторская</td>\n",
              "      <td>0.011670</td>\n",
              "      <td>0.000014</td>\n",
              "      <td>0.000014</td>\n",
              "    </tr>\n",
              "    <tr>\n",
              "      <th>7</th>\n",
              "      <td>кухня_европейская</td>\n",
              "      <td>0.006642</td>\n",
              "      <td>0.000008</td>\n",
              "      <td>0.000008</td>\n",
              "    </tr>\n",
              "    <tr>\n",
              "      <th>8</th>\n",
              "      <td>24_hour</td>\n",
              "      <td>0.000000</td>\n",
              "      <td>0.000000</td>\n",
              "      <td>0.000000</td>\n",
              "    </tr>\n",
              "    <tr>\n",
              "      <th>9</th>\n",
              "      <td>DJ</td>\n",
              "      <td>0.000000</td>\n",
              "      <td>0.000000</td>\n",
              "      <td>0.000000</td>\n",
              "    </tr>\n",
              "    <tr>\n",
              "      <th>10</th>\n",
              "      <td>discount_10</td>\n",
              "      <td>0.000000</td>\n",
              "      <td>0.000000</td>\n",
              "      <td>0.000000</td>\n",
              "    </tr>\n",
              "    <tr>\n",
              "      <th>11</th>\n",
              "      <td>discount_20</td>\n",
              "      <td>0.000000</td>\n",
              "      <td>0.000000</td>\n",
              "      <td>0.000000</td>\n",
              "    </tr>\n",
              "    <tr>\n",
              "      <th>12</th>\n",
              "      <td>discount_50</td>\n",
              "      <td>0.000000</td>\n",
              "      <td>0.000000</td>\n",
              "      <td>0.000000</td>\n",
              "    </tr>\n",
              "    <tr>\n",
              "      <th>13</th>\n",
              "      <td>Счастливые часы</td>\n",
              "      <td>0.000000</td>\n",
              "      <td>0.000000</td>\n",
              "      <td>0.000000</td>\n",
              "    </tr>\n",
              "    <tr>\n",
              "      <th>14</th>\n",
              "      <td>бесплатная парковка</td>\n",
              "      <td>0.000000</td>\n",
              "      <td>0.000000</td>\n",
              "      <td>0.000000</td>\n",
              "    </tr>\n",
              "    <tr>\n",
              "      <th>15</th>\n",
              "      <td>бранчи</td>\n",
              "      <td>0.000000</td>\n",
              "      <td>0.000000</td>\n",
              "      <td>0.000000</td>\n",
              "    </tr>\n",
              "    <tr>\n",
              "      <th>16</th>\n",
              "      <td>винная карта</td>\n",
              "      <td>0.000000</td>\n",
              "      <td>0.000000</td>\n",
              "      <td>0.000000</td>\n",
              "    </tr>\n",
              "    <tr>\n",
              "      <th>17</th>\n",
              "      <td>детская анимация</td>\n",
              "      <td>0.000000</td>\n",
              "      <td>0.000000</td>\n",
              "      <td>0.000000</td>\n",
              "    </tr>\n",
              "    <tr>\n",
              "      <th>18</th>\n",
              "      <td>круглосуточная кухня</td>\n",
              "      <td>0.000000</td>\n",
              "      <td>0.000000</td>\n",
              "      <td>0.000000</td>\n",
              "    </tr>\n",
              "    <tr>\n",
              "      <th>19</th>\n",
              "      <td>кулинария</td>\n",
              "      <td>0.000000</td>\n",
              "      <td>0.000000</td>\n",
              "      <td>0.000000</td>\n",
              "    </tr>\n",
              "  </tbody>\n",
              "</table>\n",
              "</div>"
            ],
            "text/plain": [
              "                variable  relative_importance  scaled_importance  percentage\n",
              "0                   name           843.741882           1.000000    0.998104\n",
              "1                    lng             1.461385           0.001732    0.001729\n",
              "2      кухня_итальянская             0.046581           0.000055    0.000055\n",
              "3           живая музыка             0.027903           0.000033    0.000033\n",
              "4           своя пекарня             0.025612           0.000030    0.000030\n",
              "5          барная стойка             0.023311           0.000028    0.000028\n",
              "6        кухня_авторская             0.011670           0.000014    0.000014\n",
              "7      кухня_европейская             0.006642           0.000008    0.000008\n",
              "8                24_hour             0.000000           0.000000    0.000000\n",
              "9                     DJ             0.000000           0.000000    0.000000\n",
              "10           discount_10             0.000000           0.000000    0.000000\n",
              "11           discount_20             0.000000           0.000000    0.000000\n",
              "12           discount_50             0.000000           0.000000    0.000000\n",
              "13       Счастливые часы             0.000000           0.000000    0.000000\n",
              "14   бесплатная парковка             0.000000           0.000000    0.000000\n",
              "15                бранчи             0.000000           0.000000    0.000000\n",
              "16          винная карта             0.000000           0.000000    0.000000\n",
              "17      детская анимация             0.000000           0.000000    0.000000\n",
              "18  круглосуточная кухня             0.000000           0.000000    0.000000\n",
              "19             кулинария             0.000000           0.000000    0.000000"
            ]
          },
          "metadata": {
            "tags": []
          }
        },
        {
          "output_type": "stream",
          "text": [
            "\n",
            "See the whole table with table.as_data_frame()\n"
          ],
          "name": "stdout"
        },
        {
          "output_type": "execute_result",
          "data": {
            "text/plain": [
              "<bound method ModelBase.r2 of >"
            ]
          },
          "metadata": {
            "tags": []
          },
          "execution_count": 167
        }
      ]
    },
    {
      "cell_type": "code",
      "metadata": {
        "id": "nBK_FyI2bmGD",
        "colab_type": "code",
        "colab": {
          "base_uri": "https://localhost:8080/",
          "height": 396
        },
        "outputId": "e31e89cd-893c-4ecd-d789-95e2eacf259d"
      },
      "source": [
        "test"
      ],
      "execution_count": 97,
      "outputs": [
        {
          "output_type": "display_data",
          "data": {
            "text/html": [
              "<table>\n",
              "<thead>\n",
              "<tr><th style=\"text-align: right;\">    lng</th><th>name                  </th><th style=\"text-align: right;\">  rating_yandex</th><th style=\"text-align: right;\">  review_count</th><th style=\"text-align: right;\">  закрытие под банкет</th><th style=\"text-align: right;\">  24_hour</th><th style=\"text-align: right;\">  DJ</th><th style=\"text-align: right;\">  discount_10</th><th style=\"text-align: right;\">  discount_15</th><th style=\"text-align: right;\">  discount_20</th><th style=\"text-align: right;\">  discount_50</th><th style=\"text-align: right;\">  discount_7</th><th style=\"text-align: right;\">  Счастливые часы</th><th style=\"text-align: right;\">  барная стойка</th><th style=\"text-align: right;\">  бесплатная парковка</th><th style=\"text-align: right;\">  бранчи</th><th style=\"text-align: right;\">  винная карта</th><th style=\"text-align: right;\">  детская анимация</th><th style=\"text-align: right;\">  живая музыка</th><th style=\"text-align: right;\">  круглосуточная кухня</th><th style=\"text-align: right;\">  кулинария</th><th style=\"text-align: right;\">  кухня_авторская</th><th style=\"text-align: right;\">  кухня_азербайджанская</th><th style=\"text-align: right;\">  кухня_азиатская</th><th style=\"text-align: right;\">  кухня_американская</th><th style=\"text-align: right;\">  кухня_английская</th><th style=\"text-align: right;\">  кухня_армянская</th><th style=\"text-align: right;\">  кухня_белорусская</th><th style=\"text-align: right;\">  кухня_веганская</th><th style=\"text-align: right;\">  кухня_вегетарианская</th><th style=\"text-align: right;\">  кухня_восточная</th><th style=\"text-align: right;\">  кухня_греческая</th><th style=\"text-align: right;\">  кухня_грузинская</th><th style=\"text-align: right;\">  кухня_домашняя</th><th style=\"text-align: right;\">  кухня_еврейская</th><th style=\"text-align: right;\">  кухня_европейская</th><th style=\"text-align: right;\">  кухня_индийская</th><th style=\"text-align: right;\">  кухня_индонезийская</th><th style=\"text-align: right;\">  кухня_ирландская</th><th style=\"text-align: right;\">  кухня_испанская</th><th style=\"text-align: right;\">  кухня_итальянская</th><th style=\"text-align: right;\">  кухня_кавказская</th><th style=\"text-align: right;\">  кухня_китайская</th><th style=\"text-align: right;\">  кухня_континентальная</th><th style=\"text-align: right;\">  кухня_корейская</th><th style=\"text-align: right;\">  кухня_латиноамериканская</th><th style=\"text-align: right;\">  кухня_международная</th><th style=\"text-align: right;\">  кухня_мексиканская</th><th style=\"text-align: right;\">  кухня_морская</th><th style=\"text-align: right;\">  кухня_мясная</th><th style=\"text-align: right;\">  кухня_национальная</th><th style=\"text-align: right;\">  кухня_немецкая</th><th style=\"text-align: right;\">  кухня_неткухня_специализации</th><th style=\"text-align: right;\">  кухня_паназиатская</th><th style=\"text-align: right;\">  кухня_русская</th><th style=\"text-align: right;\">  кухня_рыбная</th><th style=\"text-align: right;\">  кухня_сербская</th><th style=\"text-align: right;\">  кухня_скандинавская</th><th style=\"text-align: right;\">  кухня_смешанная</th><th style=\"text-align: right;\">  кухня_средиземноморская</th><th style=\"text-align: right;\">  кухня_тайская</th><th style=\"text-align: right;\">  кухня_узбекская</th><th style=\"text-align: right;\">  кухня_украинская</th><th style=\"text-align: right;\">  кухня_французская</th><th style=\"text-align: right;\">  кухня_фьюжн</th><th style=\"text-align: right;\">  кухня_чешская</th><th style=\"text-align: right;\">  кухня_шашлык</th><th style=\"text-align: right;\">  кухня_японская</th><th style=\"text-align: right;\">  меню на английском</th><th style=\"text-align: right;\">  местоположение у воды</th><th style=\"text-align: right;\">  настольные игры</th><th style=\"text-align: right;\">  своя пекарня</th><th style=\"text-align: right;\">  танцпол</th></tr>\n",
              "</thead>\n",
              "<tbody>\n",
              "<tr><td style=\"text-align: right;\">30.3432</td><td>Laudes                </td><td style=\"text-align: right;\">            3.8</td><td style=\"text-align: right;\">             4</td><td style=\"text-align: right;\">                    0</td><td style=\"text-align: right;\">        0</td><td style=\"text-align: right;\">   0</td><td style=\"text-align: right;\">            0</td><td style=\"text-align: right;\">            0</td><td style=\"text-align: right;\">            0</td><td style=\"text-align: right;\">            0</td><td style=\"text-align: right;\">           0</td><td style=\"text-align: right;\">                0</td><td style=\"text-align: right;\">              0</td><td style=\"text-align: right;\">                    0</td><td style=\"text-align: right;\">       0</td><td style=\"text-align: right;\">             0</td><td style=\"text-align: right;\">                 0</td><td style=\"text-align: right;\">             0</td><td style=\"text-align: right;\">                     0</td><td style=\"text-align: right;\">          0</td><td style=\"text-align: right;\">                0</td><td style=\"text-align: right;\">                      0</td><td style=\"text-align: right;\">                0</td><td style=\"text-align: right;\">                   0</td><td style=\"text-align: right;\">                 0</td><td style=\"text-align: right;\">                0</td><td style=\"text-align: right;\">                  0</td><td style=\"text-align: right;\">                0</td><td style=\"text-align: right;\">                     0</td><td style=\"text-align: right;\">                0</td><td style=\"text-align: right;\">                0</td><td style=\"text-align: right;\">                 0</td><td style=\"text-align: right;\">               0</td><td style=\"text-align: right;\">                0</td><td style=\"text-align: right;\">                  0</td><td style=\"text-align: right;\">                0</td><td style=\"text-align: right;\">                    0</td><td style=\"text-align: right;\">                 0</td><td style=\"text-align: right;\">                0</td><td style=\"text-align: right;\">                  0</td><td style=\"text-align: right;\">                 0</td><td style=\"text-align: right;\">                0</td><td style=\"text-align: right;\">                      0</td><td style=\"text-align: right;\">                0</td><td style=\"text-align: right;\">                         0</td><td style=\"text-align: right;\">                    0</td><td style=\"text-align: right;\">                   0</td><td style=\"text-align: right;\">              0</td><td style=\"text-align: right;\">             0</td><td style=\"text-align: right;\">                   0</td><td style=\"text-align: right;\">               0</td><td style=\"text-align: right;\">                             0</td><td style=\"text-align: right;\">                   0</td><td style=\"text-align: right;\">              0</td><td style=\"text-align: right;\">             0</td><td style=\"text-align: right;\">               0</td><td style=\"text-align: right;\">                    0</td><td style=\"text-align: right;\">                0</td><td style=\"text-align: right;\">                        0</td><td style=\"text-align: right;\">              0</td><td style=\"text-align: right;\">                0</td><td style=\"text-align: right;\">                 0</td><td style=\"text-align: right;\">                  0</td><td style=\"text-align: right;\">            0</td><td style=\"text-align: right;\">              0</td><td style=\"text-align: right;\">             0</td><td style=\"text-align: right;\">               0</td><td style=\"text-align: right;\">                   0</td><td style=\"text-align: right;\">                      0</td><td style=\"text-align: right;\">                0</td><td style=\"text-align: right;\">             0</td><td style=\"text-align: right;\">        0</td></tr>\n",
              "<tr><td style=\"text-align: right;\">30.3243</td><td>Le Tour De Vin        </td><td style=\"text-align: right;\">            3.2</td><td style=\"text-align: right;\">            18</td><td style=\"text-align: right;\">                    0</td><td style=\"text-align: right;\">        0</td><td style=\"text-align: right;\">   0</td><td style=\"text-align: right;\">            0</td><td style=\"text-align: right;\">            0</td><td style=\"text-align: right;\">            0</td><td style=\"text-align: right;\">            0</td><td style=\"text-align: right;\">           0</td><td style=\"text-align: right;\">                0</td><td style=\"text-align: right;\">              0</td><td style=\"text-align: right;\">                    0</td><td style=\"text-align: right;\">       0</td><td style=\"text-align: right;\">             0</td><td style=\"text-align: right;\">                 0</td><td style=\"text-align: right;\">             0</td><td style=\"text-align: right;\">                     0</td><td style=\"text-align: right;\">          0</td><td style=\"text-align: right;\">                0</td><td style=\"text-align: right;\">                      0</td><td style=\"text-align: right;\">                0</td><td style=\"text-align: right;\">                   0</td><td style=\"text-align: right;\">                 0</td><td style=\"text-align: right;\">                0</td><td style=\"text-align: right;\">                  0</td><td style=\"text-align: right;\">                0</td><td style=\"text-align: right;\">                     0</td><td style=\"text-align: right;\">                0</td><td style=\"text-align: right;\">                0</td><td style=\"text-align: right;\">                 0</td><td style=\"text-align: right;\">               0</td><td style=\"text-align: right;\">                0</td><td style=\"text-align: right;\">                  1</td><td style=\"text-align: right;\">                0</td><td style=\"text-align: right;\">                    0</td><td style=\"text-align: right;\">                 0</td><td style=\"text-align: right;\">                0</td><td style=\"text-align: right;\">                  0</td><td style=\"text-align: right;\">                 0</td><td style=\"text-align: right;\">                0</td><td style=\"text-align: right;\">                      0</td><td style=\"text-align: right;\">                0</td><td style=\"text-align: right;\">                         0</td><td style=\"text-align: right;\">                    0</td><td style=\"text-align: right;\">                   0</td><td style=\"text-align: right;\">              0</td><td style=\"text-align: right;\">             0</td><td style=\"text-align: right;\">                   0</td><td style=\"text-align: right;\">               0</td><td style=\"text-align: right;\">                             0</td><td style=\"text-align: right;\">                   0</td><td style=\"text-align: right;\">              0</td><td style=\"text-align: right;\">             0</td><td style=\"text-align: right;\">               0</td><td style=\"text-align: right;\">                    0</td><td style=\"text-align: right;\">                0</td><td style=\"text-align: right;\">                        0</td><td style=\"text-align: right;\">              0</td><td style=\"text-align: right;\">                0</td><td style=\"text-align: right;\">                 0</td><td style=\"text-align: right;\">                  0</td><td style=\"text-align: right;\">            0</td><td style=\"text-align: right;\">              0</td><td style=\"text-align: right;\">             0</td><td style=\"text-align: right;\">               0</td><td style=\"text-align: right;\">                   0</td><td style=\"text-align: right;\">                      0</td><td style=\"text-align: right;\">                0</td><td style=\"text-align: right;\">             0</td><td style=\"text-align: right;\">        0</td></tr>\n",
              "<tr><td style=\"text-align: right;\">30.3558</td><td>Beer House            </td><td style=\"text-align: right;\">            4.3</td><td style=\"text-align: right;\">           141</td><td style=\"text-align: right;\">                    0</td><td style=\"text-align: right;\">        0</td><td style=\"text-align: right;\">   0</td><td style=\"text-align: right;\">            0</td><td style=\"text-align: right;\">            0</td><td style=\"text-align: right;\">            0</td><td style=\"text-align: right;\">            1</td><td style=\"text-align: right;\">           0</td><td style=\"text-align: right;\">                0</td><td style=\"text-align: right;\">              0</td><td style=\"text-align: right;\">                    0</td><td style=\"text-align: right;\">       0</td><td style=\"text-align: right;\">             0</td><td style=\"text-align: right;\">                 0</td><td style=\"text-align: right;\">             0</td><td style=\"text-align: right;\">                     0</td><td style=\"text-align: right;\">          0</td><td style=\"text-align: right;\">                0</td><td style=\"text-align: right;\">                      0</td><td style=\"text-align: right;\">                0</td><td style=\"text-align: right;\">                   0</td><td style=\"text-align: right;\">                 0</td><td style=\"text-align: right;\">                0</td><td style=\"text-align: right;\">                  0</td><td style=\"text-align: right;\">                0</td><td style=\"text-align: right;\">                     0</td><td style=\"text-align: right;\">                0</td><td style=\"text-align: right;\">                0</td><td style=\"text-align: right;\">                 0</td><td style=\"text-align: right;\">               0</td><td style=\"text-align: right;\">                0</td><td style=\"text-align: right;\">                  1</td><td style=\"text-align: right;\">                0</td><td style=\"text-align: right;\">                    0</td><td style=\"text-align: right;\">                 0</td><td style=\"text-align: right;\">                0</td><td style=\"text-align: right;\">                  0</td><td style=\"text-align: right;\">                 0</td><td style=\"text-align: right;\">                0</td><td style=\"text-align: right;\">                      0</td><td style=\"text-align: right;\">                0</td><td style=\"text-align: right;\">                         0</td><td style=\"text-align: right;\">                    0</td><td style=\"text-align: right;\">                   0</td><td style=\"text-align: right;\">              0</td><td style=\"text-align: right;\">             1</td><td style=\"text-align: right;\">                   0</td><td style=\"text-align: right;\">               0</td><td style=\"text-align: right;\">                             0</td><td style=\"text-align: right;\">                   0</td><td style=\"text-align: right;\">              1</td><td style=\"text-align: right;\">             0</td><td style=\"text-align: right;\">               0</td><td style=\"text-align: right;\">                    0</td><td style=\"text-align: right;\">                0</td><td style=\"text-align: right;\">                        0</td><td style=\"text-align: right;\">              0</td><td style=\"text-align: right;\">                0</td><td style=\"text-align: right;\">                 0</td><td style=\"text-align: right;\">                  0</td><td style=\"text-align: right;\">            0</td><td style=\"text-align: right;\">              0</td><td style=\"text-align: right;\">             0</td><td style=\"text-align: right;\">               0</td><td style=\"text-align: right;\">                   0</td><td style=\"text-align: right;\">                      0</td><td style=\"text-align: right;\">                0</td><td style=\"text-align: right;\">             0</td><td style=\"text-align: right;\">        0</td></tr>\n",
              "<tr><td style=\"text-align: right;\">30.2975</td><td>Бюро - Бургеры и Бар  </td><td style=\"text-align: right;\">            4.7</td><td style=\"text-align: right;\">           184</td><td style=\"text-align: right;\">                    0</td><td style=\"text-align: right;\">        0</td><td style=\"text-align: right;\">   0</td><td style=\"text-align: right;\">            0</td><td style=\"text-align: right;\">            0</td><td style=\"text-align: right;\">            0</td><td style=\"text-align: right;\">            0</td><td style=\"text-align: right;\">           0</td><td style=\"text-align: right;\">                0</td><td style=\"text-align: right;\">              0</td><td style=\"text-align: right;\">                    0</td><td style=\"text-align: right;\">       0</td><td style=\"text-align: right;\">             0</td><td style=\"text-align: right;\">                 0</td><td style=\"text-align: right;\">             0</td><td style=\"text-align: right;\">                     0</td><td style=\"text-align: right;\">          0</td><td style=\"text-align: right;\">                0</td><td style=\"text-align: right;\">                      0</td><td style=\"text-align: right;\">                0</td><td style=\"text-align: right;\">                   1</td><td style=\"text-align: right;\">                 0</td><td style=\"text-align: right;\">                0</td><td style=\"text-align: right;\">                  0</td><td style=\"text-align: right;\">                0</td><td style=\"text-align: right;\">                     0</td><td style=\"text-align: right;\">                0</td><td style=\"text-align: right;\">                0</td><td style=\"text-align: right;\">                 0</td><td style=\"text-align: right;\">               0</td><td style=\"text-align: right;\">                0</td><td style=\"text-align: right;\">                  1</td><td style=\"text-align: right;\">                0</td><td style=\"text-align: right;\">                    0</td><td style=\"text-align: right;\">                 0</td><td style=\"text-align: right;\">                0</td><td style=\"text-align: right;\">                  0</td><td style=\"text-align: right;\">                 0</td><td style=\"text-align: right;\">                0</td><td style=\"text-align: right;\">                      0</td><td style=\"text-align: right;\">                0</td><td style=\"text-align: right;\">                         0</td><td style=\"text-align: right;\">                    0</td><td style=\"text-align: right;\">                   0</td><td style=\"text-align: right;\">              0</td><td style=\"text-align: right;\">             0</td><td style=\"text-align: right;\">                   0</td><td style=\"text-align: right;\">               0</td><td style=\"text-align: right;\">                             0</td><td style=\"text-align: right;\">                   0</td><td style=\"text-align: right;\">              0</td><td style=\"text-align: right;\">             0</td><td style=\"text-align: right;\">               0</td><td style=\"text-align: right;\">                    0</td><td style=\"text-align: right;\">                0</td><td style=\"text-align: right;\">                        0</td><td style=\"text-align: right;\">              0</td><td style=\"text-align: right;\">                0</td><td style=\"text-align: right;\">                 0</td><td style=\"text-align: right;\">                  0</td><td style=\"text-align: right;\">            0</td><td style=\"text-align: right;\">              0</td><td style=\"text-align: right;\">             0</td><td style=\"text-align: right;\">               0</td><td style=\"text-align: right;\">                   0</td><td style=\"text-align: right;\">                      0</td><td style=\"text-align: right;\">                0</td><td style=\"text-align: right;\">             0</td><td style=\"text-align: right;\">        0</td></tr>\n",
              "<tr><td style=\"text-align: right;\">30.3437</td><td>Счастье на Рубинштейна</td><td style=\"text-align: right;\">            4.4</td><td style=\"text-align: right;\">           390</td><td style=\"text-align: right;\">                    0</td><td style=\"text-align: right;\">        0</td><td style=\"text-align: right;\">   0</td><td style=\"text-align: right;\">            0</td><td style=\"text-align: right;\">            0</td><td style=\"text-align: right;\">            0</td><td style=\"text-align: right;\">            0</td><td style=\"text-align: right;\">           0</td><td style=\"text-align: right;\">                0</td><td style=\"text-align: right;\">              1</td><td style=\"text-align: right;\">                    0</td><td style=\"text-align: right;\">       1</td><td style=\"text-align: right;\">             0</td><td style=\"text-align: right;\">                 0</td><td style=\"text-align: right;\">             0</td><td style=\"text-align: right;\">                     0</td><td style=\"text-align: right;\">          0</td><td style=\"text-align: right;\">                1</td><td style=\"text-align: right;\">                      0</td><td style=\"text-align: right;\">                0</td><td style=\"text-align: right;\">                   0</td><td style=\"text-align: right;\">                 0</td><td style=\"text-align: right;\">                0</td><td style=\"text-align: right;\">                  0</td><td style=\"text-align: right;\">                0</td><td style=\"text-align: right;\">                     0</td><td style=\"text-align: right;\">                0</td><td style=\"text-align: right;\">                0</td><td style=\"text-align: right;\">                 0</td><td style=\"text-align: right;\">               0</td><td style=\"text-align: right;\">                0</td><td style=\"text-align: right;\">                  1</td><td style=\"text-align: right;\">                0</td><td style=\"text-align: right;\">                    0</td><td style=\"text-align: right;\">                 0</td><td style=\"text-align: right;\">                0</td><td style=\"text-align: right;\">                  0</td><td style=\"text-align: right;\">                 0</td><td style=\"text-align: right;\">                0</td><td style=\"text-align: right;\">                      0</td><td style=\"text-align: right;\">                0</td><td style=\"text-align: right;\">                         0</td><td style=\"text-align: right;\">                    0</td><td style=\"text-align: right;\">                   0</td><td style=\"text-align: right;\">              0</td><td style=\"text-align: right;\">             0</td><td style=\"text-align: right;\">                   0</td><td style=\"text-align: right;\">               0</td><td style=\"text-align: right;\">                             0</td><td style=\"text-align: right;\">                   0</td><td style=\"text-align: right;\">              1</td><td style=\"text-align: right;\">             0</td><td style=\"text-align: right;\">               0</td><td style=\"text-align: right;\">                    0</td><td style=\"text-align: right;\">                0</td><td style=\"text-align: right;\">                        0</td><td style=\"text-align: right;\">              0</td><td style=\"text-align: right;\">                0</td><td style=\"text-align: right;\">                 0</td><td style=\"text-align: right;\">                  0</td><td style=\"text-align: right;\">            0</td><td style=\"text-align: right;\">              0</td><td style=\"text-align: right;\">             0</td><td style=\"text-align: right;\">               0</td><td style=\"text-align: right;\">                   0</td><td style=\"text-align: right;\">                      0</td><td style=\"text-align: right;\">                0</td><td style=\"text-align: right;\">             0</td><td style=\"text-align: right;\">        0</td></tr>\n",
              "<tr><td style=\"text-align: right;\">30.318 </td><td>Стрит                 </td><td style=\"text-align: right;\">            3  </td><td style=\"text-align: right;\">            16</td><td style=\"text-align: right;\">                    0</td><td style=\"text-align: right;\">        0</td><td style=\"text-align: right;\">   0</td><td style=\"text-align: right;\">            0</td><td style=\"text-align: right;\">            0</td><td style=\"text-align: right;\">            0</td><td style=\"text-align: right;\">            0</td><td style=\"text-align: right;\">           0</td><td style=\"text-align: right;\">                0</td><td style=\"text-align: right;\">              0</td><td style=\"text-align: right;\">                    0</td><td style=\"text-align: right;\">       0</td><td style=\"text-align: right;\">             0</td><td style=\"text-align: right;\">                 0</td><td style=\"text-align: right;\">             0</td><td style=\"text-align: right;\">                     0</td><td style=\"text-align: right;\">          0</td><td style=\"text-align: right;\">                0</td><td style=\"text-align: right;\">                      0</td><td style=\"text-align: right;\">                0</td><td style=\"text-align: right;\">                   0</td><td style=\"text-align: right;\">                 0</td><td style=\"text-align: right;\">                0</td><td style=\"text-align: right;\">                  0</td><td style=\"text-align: right;\">                0</td><td style=\"text-align: right;\">                     0</td><td style=\"text-align: right;\">                0</td><td style=\"text-align: right;\">                0</td><td style=\"text-align: right;\">                 0</td><td style=\"text-align: right;\">               0</td><td style=\"text-align: right;\">                0</td><td style=\"text-align: right;\">                  0</td><td style=\"text-align: right;\">                0</td><td style=\"text-align: right;\">                    0</td><td style=\"text-align: right;\">                 0</td><td style=\"text-align: right;\">                0</td><td style=\"text-align: right;\">                  0</td><td style=\"text-align: right;\">                 0</td><td style=\"text-align: right;\">                0</td><td style=\"text-align: right;\">                      0</td><td style=\"text-align: right;\">                0</td><td style=\"text-align: right;\">                         0</td><td style=\"text-align: right;\">                    0</td><td style=\"text-align: right;\">                   0</td><td style=\"text-align: right;\">              0</td><td style=\"text-align: right;\">             0</td><td style=\"text-align: right;\">                   0</td><td style=\"text-align: right;\">               0</td><td style=\"text-align: right;\">                             0</td><td style=\"text-align: right;\">                   0</td><td style=\"text-align: right;\">              0</td><td style=\"text-align: right;\">             0</td><td style=\"text-align: right;\">               0</td><td style=\"text-align: right;\">                    0</td><td style=\"text-align: right;\">                0</td><td style=\"text-align: right;\">                        0</td><td style=\"text-align: right;\">              0</td><td style=\"text-align: right;\">                0</td><td style=\"text-align: right;\">                 0</td><td style=\"text-align: right;\">                  0</td><td style=\"text-align: right;\">            0</td><td style=\"text-align: right;\">              0</td><td style=\"text-align: right;\">             0</td><td style=\"text-align: right;\">               0</td><td style=\"text-align: right;\">                   0</td><td style=\"text-align: right;\">                      0</td><td style=\"text-align: right;\">                0</td><td style=\"text-align: right;\">             0</td><td style=\"text-align: right;\">        0</td></tr>\n",
              "<tr><td style=\"text-align: right;\">30.3351</td><td>Хинкальная на Неве    </td><td style=\"text-align: right;\">            4.4</td><td style=\"text-align: right;\">           162</td><td style=\"text-align: right;\">                    0</td><td style=\"text-align: right;\">        0</td><td style=\"text-align: right;\">   0</td><td style=\"text-align: right;\">            0</td><td style=\"text-align: right;\">            0</td><td style=\"text-align: right;\">            0</td><td style=\"text-align: right;\">            0</td><td style=\"text-align: right;\">           0</td><td style=\"text-align: right;\">                0</td><td style=\"text-align: right;\">              0</td><td style=\"text-align: right;\">                    0</td><td style=\"text-align: right;\">       0</td><td style=\"text-align: right;\">             0</td><td style=\"text-align: right;\">                 0</td><td style=\"text-align: right;\">             0</td><td style=\"text-align: right;\">                     0</td><td style=\"text-align: right;\">          0</td><td style=\"text-align: right;\">                1</td><td style=\"text-align: right;\">                      0</td><td style=\"text-align: right;\">                0</td><td style=\"text-align: right;\">                   0</td><td style=\"text-align: right;\">                 0</td><td style=\"text-align: right;\">                0</td><td style=\"text-align: right;\">                  0</td><td style=\"text-align: right;\">                0</td><td style=\"text-align: right;\">                     0</td><td style=\"text-align: right;\">                0</td><td style=\"text-align: right;\">                0</td><td style=\"text-align: right;\">                 0</td><td style=\"text-align: right;\">               0</td><td style=\"text-align: right;\">                0</td><td style=\"text-align: right;\">                  1</td><td style=\"text-align: right;\">                0</td><td style=\"text-align: right;\">                    0</td><td style=\"text-align: right;\">                 0</td><td style=\"text-align: right;\">                0</td><td style=\"text-align: right;\">                  0</td><td style=\"text-align: right;\">                 0</td><td style=\"text-align: right;\">                0</td><td style=\"text-align: right;\">                      0</td><td style=\"text-align: right;\">                0</td><td style=\"text-align: right;\">                         0</td><td style=\"text-align: right;\">                    0</td><td style=\"text-align: right;\">                   0</td><td style=\"text-align: right;\">              0</td><td style=\"text-align: right;\">             0</td><td style=\"text-align: right;\">                   0</td><td style=\"text-align: right;\">               0</td><td style=\"text-align: right;\">                             0</td><td style=\"text-align: right;\">                   0</td><td style=\"text-align: right;\">              1</td><td style=\"text-align: right;\">             0</td><td style=\"text-align: right;\">               0</td><td style=\"text-align: right;\">                    0</td><td style=\"text-align: right;\">                0</td><td style=\"text-align: right;\">                        0</td><td style=\"text-align: right;\">              0</td><td style=\"text-align: right;\">                0</td><td style=\"text-align: right;\">                 0</td><td style=\"text-align: right;\">                  0</td><td style=\"text-align: right;\">            0</td><td style=\"text-align: right;\">              0</td><td style=\"text-align: right;\">             0</td><td style=\"text-align: right;\">               0</td><td style=\"text-align: right;\">                   0</td><td style=\"text-align: right;\">                      0</td><td style=\"text-align: right;\">                0</td><td style=\"text-align: right;\">             0</td><td style=\"text-align: right;\">        0</td></tr>\n",
              "<tr><td style=\"text-align: right;\">30.296 </td><td>Mein Herz             </td><td style=\"text-align: right;\">            4.4</td><td style=\"text-align: right;\">            83</td><td style=\"text-align: right;\">                    1</td><td style=\"text-align: right;\">        0</td><td style=\"text-align: right;\">   0</td><td style=\"text-align: right;\">            0</td><td style=\"text-align: right;\">            0</td><td style=\"text-align: right;\">            0</td><td style=\"text-align: right;\">            0</td><td style=\"text-align: right;\">           0</td><td style=\"text-align: right;\">                0</td><td style=\"text-align: right;\">              0</td><td style=\"text-align: right;\">                    0</td><td style=\"text-align: right;\">       0</td><td style=\"text-align: right;\">             0</td><td style=\"text-align: right;\">                 0</td><td style=\"text-align: right;\">             0</td><td style=\"text-align: right;\">                     0</td><td style=\"text-align: right;\">          0</td><td style=\"text-align: right;\">                0</td><td style=\"text-align: right;\">                      0</td><td style=\"text-align: right;\">                0</td><td style=\"text-align: right;\">                   0</td><td style=\"text-align: right;\">                 0</td><td style=\"text-align: right;\">                0</td><td style=\"text-align: right;\">                  0</td><td style=\"text-align: right;\">                0</td><td style=\"text-align: right;\">                     0</td><td style=\"text-align: right;\">                0</td><td style=\"text-align: right;\">                0</td><td style=\"text-align: right;\">                 0</td><td style=\"text-align: right;\">               0</td><td style=\"text-align: right;\">                0</td><td style=\"text-align: right;\">                  1</td><td style=\"text-align: right;\">                0</td><td style=\"text-align: right;\">                    0</td><td style=\"text-align: right;\">                 0</td><td style=\"text-align: right;\">                0</td><td style=\"text-align: right;\">                  0</td><td style=\"text-align: right;\">                 0</td><td style=\"text-align: right;\">                0</td><td style=\"text-align: right;\">                      0</td><td style=\"text-align: right;\">                0</td><td style=\"text-align: right;\">                         0</td><td style=\"text-align: right;\">                    1</td><td style=\"text-align: right;\">                   0</td><td style=\"text-align: right;\">              0</td><td style=\"text-align: right;\">             0</td><td style=\"text-align: right;\">                   0</td><td style=\"text-align: right;\">               0</td><td style=\"text-align: right;\">                             0</td><td style=\"text-align: right;\">                   0</td><td style=\"text-align: right;\">              1</td><td style=\"text-align: right;\">             0</td><td style=\"text-align: right;\">               0</td><td style=\"text-align: right;\">                    0</td><td style=\"text-align: right;\">                0</td><td style=\"text-align: right;\">                        0</td><td style=\"text-align: right;\">              0</td><td style=\"text-align: right;\">                0</td><td style=\"text-align: right;\">                 0</td><td style=\"text-align: right;\">                  0</td><td style=\"text-align: right;\">            0</td><td style=\"text-align: right;\">              0</td><td style=\"text-align: right;\">             0</td><td style=\"text-align: right;\">               0</td><td style=\"text-align: right;\">                   0</td><td style=\"text-align: right;\">                      0</td><td style=\"text-align: right;\">                0</td><td style=\"text-align: right;\">             0</td><td style=\"text-align: right;\">        0</td></tr>\n",
              "<tr><td style=\"text-align: right;\">30.3443</td><td>St. Martin            </td><td style=\"text-align: right;\">            4.7</td><td style=\"text-align: right;\">           158</td><td style=\"text-align: right;\">                    0</td><td style=\"text-align: right;\">        0</td><td style=\"text-align: right;\">   0</td><td style=\"text-align: right;\">            0</td><td style=\"text-align: right;\">            0</td><td style=\"text-align: right;\">            0</td><td style=\"text-align: right;\">            0</td><td style=\"text-align: right;\">           0</td><td style=\"text-align: right;\">                0</td><td style=\"text-align: right;\">              0</td><td style=\"text-align: right;\">                    0</td><td style=\"text-align: right;\">       0</td><td style=\"text-align: right;\">             0</td><td style=\"text-align: right;\">                 0</td><td style=\"text-align: right;\">             0</td><td style=\"text-align: right;\">                     0</td><td style=\"text-align: right;\">          0</td><td style=\"text-align: right;\">                0</td><td style=\"text-align: right;\">                      0</td><td style=\"text-align: right;\">                0</td><td style=\"text-align: right;\">                   0</td><td style=\"text-align: right;\">                 0</td><td style=\"text-align: right;\">                0</td><td style=\"text-align: right;\">                  0</td><td style=\"text-align: right;\">                0</td><td style=\"text-align: right;\">                     0</td><td style=\"text-align: right;\">                0</td><td style=\"text-align: right;\">                0</td><td style=\"text-align: right;\">                 0</td><td style=\"text-align: right;\">               0</td><td style=\"text-align: right;\">                0</td><td style=\"text-align: right;\">                  1</td><td style=\"text-align: right;\">                0</td><td style=\"text-align: right;\">                    0</td><td style=\"text-align: right;\">                 0</td><td style=\"text-align: right;\">                0</td><td style=\"text-align: right;\">                  0</td><td style=\"text-align: right;\">                 0</td><td style=\"text-align: right;\">                0</td><td style=\"text-align: right;\">                      0</td><td style=\"text-align: right;\">                0</td><td style=\"text-align: right;\">                         0</td><td style=\"text-align: right;\">                    0</td><td style=\"text-align: right;\">                   0</td><td style=\"text-align: right;\">              0</td><td style=\"text-align: right;\">             0</td><td style=\"text-align: right;\">                   0</td><td style=\"text-align: right;\">               0</td><td style=\"text-align: right;\">                             0</td><td style=\"text-align: right;\">                   0</td><td style=\"text-align: right;\">              1</td><td style=\"text-align: right;\">             0</td><td style=\"text-align: right;\">               0</td><td style=\"text-align: right;\">                    0</td><td style=\"text-align: right;\">                0</td><td style=\"text-align: right;\">                        0</td><td style=\"text-align: right;\">              0</td><td style=\"text-align: right;\">                0</td><td style=\"text-align: right;\">                 0</td><td style=\"text-align: right;\">                  0</td><td style=\"text-align: right;\">            0</td><td style=\"text-align: right;\">              0</td><td style=\"text-align: right;\">             0</td><td style=\"text-align: right;\">               0</td><td style=\"text-align: right;\">                   0</td><td style=\"text-align: right;\">                      0</td><td style=\"text-align: right;\">                0</td><td style=\"text-align: right;\">             0</td><td style=\"text-align: right;\">        0</td></tr>\n",
              "<tr><td style=\"text-align: right;\">30.3516</td><td>Арбат                 </td><td style=\"text-align: right;\">            4.3</td><td style=\"text-align: right;\">             9</td><td style=\"text-align: right;\">                    0</td><td style=\"text-align: right;\">        0</td><td style=\"text-align: right;\">   0</td><td style=\"text-align: right;\">            0</td><td style=\"text-align: right;\">            0</td><td style=\"text-align: right;\">            0</td><td style=\"text-align: right;\">            0</td><td style=\"text-align: right;\">           0</td><td style=\"text-align: right;\">                0</td><td style=\"text-align: right;\">              0</td><td style=\"text-align: right;\">                    0</td><td style=\"text-align: right;\">       0</td><td style=\"text-align: right;\">             0</td><td style=\"text-align: right;\">                 0</td><td style=\"text-align: right;\">             0</td><td style=\"text-align: right;\">                     0</td><td style=\"text-align: right;\">          0</td><td style=\"text-align: right;\">                0</td><td style=\"text-align: right;\">                      0</td><td style=\"text-align: right;\">                0</td><td style=\"text-align: right;\">                   0</td><td style=\"text-align: right;\">                 0</td><td style=\"text-align: right;\">                0</td><td style=\"text-align: right;\">                  0</td><td style=\"text-align: right;\">                0</td><td style=\"text-align: right;\">                     0</td><td style=\"text-align: right;\">                0</td><td style=\"text-align: right;\">                0</td><td style=\"text-align: right;\">                 0</td><td style=\"text-align: right;\">               0</td><td style=\"text-align: right;\">                0</td><td style=\"text-align: right;\">                  0</td><td style=\"text-align: right;\">                0</td><td style=\"text-align: right;\">                    0</td><td style=\"text-align: right;\">                 0</td><td style=\"text-align: right;\">                0</td><td style=\"text-align: right;\">                  0</td><td style=\"text-align: right;\">                 0</td><td style=\"text-align: right;\">                1</td><td style=\"text-align: right;\">                      0</td><td style=\"text-align: right;\">                1</td><td style=\"text-align: right;\">                         0</td><td style=\"text-align: right;\">                    0</td><td style=\"text-align: right;\">                   0</td><td style=\"text-align: right;\">              0</td><td style=\"text-align: right;\">             0</td><td style=\"text-align: right;\">                   0</td><td style=\"text-align: right;\">               0</td><td style=\"text-align: right;\">                             0</td><td style=\"text-align: right;\">                   0</td><td style=\"text-align: right;\">              0</td><td style=\"text-align: right;\">             0</td><td style=\"text-align: right;\">               0</td><td style=\"text-align: right;\">                    0</td><td style=\"text-align: right;\">                0</td><td style=\"text-align: right;\">                        0</td><td style=\"text-align: right;\">              1</td><td style=\"text-align: right;\">                0</td><td style=\"text-align: right;\">                 0</td><td style=\"text-align: right;\">                  0</td><td style=\"text-align: right;\">            0</td><td style=\"text-align: right;\">              0</td><td style=\"text-align: right;\">             0</td><td style=\"text-align: right;\">               0</td><td style=\"text-align: right;\">                   0</td><td style=\"text-align: right;\">                      0</td><td style=\"text-align: right;\">                0</td><td style=\"text-align: right;\">             0</td><td style=\"text-align: right;\">        0</td></tr>\n",
              "</tbody>\n",
              "</table>"
            ]
          },
          "metadata": {
            "tags": []
          }
        },
        {
          "output_type": "execute_result",
          "data": {
            "text/plain": [
              ""
            ]
          },
          "metadata": {
            "tags": []
          },
          "execution_count": 97
        }
      ]
    },
    {
      "cell_type": "code",
      "metadata": {
        "id": "gA3VTOjwc64Q",
        "colab_type": "code",
        "colab": {
          "base_uri": "https://localhost:8080/",
          "height": 34
        },
        "outputId": "5ce2a89d-3865-4aa0-e5d0-ec89c4f1869a"
      },
      "source": [
        "type(test['rating_yandex'].as_data_frame())"
      ],
      "execution_count": 105,
      "outputs": [
        {
          "output_type": "execute_result",
          "data": {
            "text/plain": [
              "pandas.core.frame.DataFrame"
            ]
          },
          "metadata": {
            "tags": []
          },
          "execution_count": 105
        }
      ]
    },
    {
      "cell_type": "code",
      "metadata": {
        "id": "oeAdr0mMeSpH",
        "colab_type": "code",
        "colab": {}
      },
      "source": [
        "import seaborn as sns"
      ],
      "execution_count": 0,
      "outputs": []
    },
    {
      "cell_type": "code",
      "metadata": {
        "id": "wask1pAwenod",
        "colab_type": "code",
        "colab": {
          "base_uri": "https://localhost:8080/",
          "height": 300
        },
        "outputId": "ff977b9e-26bb-402a-9e14-81485126e068"
      },
      "source": [
        "sns.regplot(x=train['rating_yandex'].as_data_frame().values.flatten(), y=m.predict(train).as_data_frame().values.flatten())"
      ],
      "execution_count": 168,
      "outputs": [
        {
          "output_type": "stream",
          "text": [
            "gbm prediction progress: |████████████████████████████████████████████████| 100%\n"
          ],
          "name": "stdout"
        },
        {
          "output_type": "execute_result",
          "data": {
            "text/plain": [
              "<matplotlib.axes._subplots.AxesSubplot at 0x7f7154517a90>"
            ]
          },
          "metadata": {
            "tags": []
          },
          "execution_count": 168
        },
        {
          "output_type": "display_data",
          "data": {
            "image/png": "[encoded data removed]",
            "text/plain": [
              "<Figure size 432x288 with 1 Axes>"
            ]
          },
          "metadata": {
            "tags": []
          }
        }
      ]
    },
    {
      "cell_type": "code",
      "metadata": {
        "id": "tVu2WDs7luw9",
        "colab_type": "code",
        "colab": {
          "base_uri": "https://localhost:8080/",
          "height": 300
        },
        "outputId": "0f93da5e-d39f-46fb-abfd-fabd5fae4116"
      },
      "source": [
        "sns.regplot(x=test['rating_yandex'].as_data_frame().values.flatten(), y=m.predict(test).as_data_frame().values.flatten())"
      ],
      "execution_count": 169,
      "outputs": [
        {
          "output_type": "stream",
          "text": [
            "gbm prediction progress: |████████████████████████████████████████████████| 100%\n"
          ],
          "name": "stdout"
        },
        {
          "output_type": "execute_result",
          "data": {
            "text/plain": [
              "<matplotlib.axes._subplots.AxesSubplot at 0x7f7154447cf8>"
            ]
          },
          "metadata": {
            "tags": []
          },
          "execution_count": 169
        },
        {
          "output_type": "display_data",
          "data": {
            "image/png": "[encoded data removed]",
            "text/plain": [
              "<Figure size 432x288 with 1 Axes>"
            ]
          },
          "metadata": {
            "tags": []
          }
        }
      ]
    },
    {
      "cell_type": "code",
      "metadata": {
        "id": "Yq4GODuyg5Pp",
        "colab_type": "code",
        "colab": {}
      },
      "source": [
        "y_true = fr['rating_yandex'].as_data_frame()"
      ],
      "execution_count": 0,
      "outputs": []
    },
    {
      "cell_type": "code",
      "metadata": {
        "id": "KDoqQCmTh5M_",
        "colab_type": "code",
        "colab": {
          "base_uri": "https://localhost:8080/",
          "height": 52
        },
        "outputId": "8cabf25f-2aa3-4c61-8b21-68220e7623b9"
      },
      "source": [
        "from scipy.stats import boxcox\n",
        "boxcox(y_true.values.flatten())"
      ],
      "execution_count": 129,
      "outputs": [
        {
          "output_type": "execute_result",
          "data": {
            "text/plain": [
              "(array([143.84086498, 128.99388341, 177.49986747, ..., 239.12730043,\n",
              "        159.98322138, 177.49986747]), 4.513554039003673)"
            ]
          },
          "metadata": {
            "tags": []
          },
          "execution_count": 129
        }
      ]
    },
    {
      "cell_type": "code",
      "metadata": {
        "id": "K0y8iQ6zh8a3",
        "colab_type": "code",
        "colab": {
          "base_uri": "https://localhost:8080/",
          "height": 52
        },
        "outputId": "3b356e3a-7230-4717-e1e8-28c4f1c2c0cf"
      },
      "source": [
        "box = boxcox(y_true.values.flatten())\n",
        "box[0]"
      ],
      "execution_count": 132,
      "outputs": [
        {
          "output_type": "execute_result",
          "data": {
            "text/plain": [
              "array([143.84086498, 128.99388341, 177.49986747, ..., 239.12730043,\n",
              "       159.98322138, 177.49986747])"
            ]
          },
          "metadata": {
            "tags": []
          },
          "execution_count": 132
        }
      ]
    },
    {
      "cell_type": "code",
      "metadata": {
        "id": "4538aSfOjiK_",
        "colab_type": "code",
        "colab": {
          "base_uri": "https://localhost:8080/",
          "height": 282
        },
        "outputId": "60650867-d0c9-469c-c689-5990142b3f8e"
      },
      "source": [
        "sns.distplot(box[0])"
      ],
      "execution_count": 133,
      "outputs": [
        {
          "output_type": "execute_result",
          "data": {
            "text/plain": [
              "<matplotlib.axes._subplots.AxesSubplot at 0x7f71549c9f28>"
            ]
          },
          "metadata": {
            "tags": []
          },
          "execution_count": 133
        },
        {
          "output_type": "display_data",
          "data": {
            "image/png": "[encoded data removed]",
            "text/plain": [
              "<Figure size 432x288 with 1 Axes>"
            ]
          },
          "metadata": {
            "tags": []
          }
        }
      ]
    },
    {
      "cell_type": "code",
      "metadata": {
        "id": "D-cQDCzxj_Qw",
        "colab_type": "code",
        "colab": {}
      },
      "source": [
        "df['rating_yandex'] = boxcox(df['rating_yandex'])[0]"
      ],
      "execution_count": 0,
      "outputs": []
    },
    {
      "cell_type": "code",
      "metadata": {
        "id": "CjjXTBsQkVhS",
        "colab_type": "code",
        "colab": {}
      },
      "source": [
        "df.reset_index(inplace=True)"
      ],
      "execution_count": 0,
      "outputs": []
    },
    {
      "cell_type": "code",
      "metadata": {
        "id": "j3GGOi6BkuGs",
        "colab_type": "code",
        "colab": {}
      },
      "source": [
        "#формула гаверсинусов\n",
        "R = 6373.0 # радиус земли в километрах\n",
        "\n",
        "def distance(x,y):\n",
        "    \"\"\"\n",
        "    Параметры\n",
        "    ----------\n",
        "    x : tuple, широта и долгота первой геокоординаты \n",
        "    y : tuple, широта и долгота второй геокоординаты \n",
        "    \n",
        "    Результат\n",
        "    ----------\n",
        "    result : дистанция в километрах между двумя геокоординатами\n",
        "    \"\"\"\n",
        "    lat_a, long_a, lat_b, long_b = map(radians, [*x,*y])    \n",
        "    dlon = long_b - long_a\n",
        "    dlat = lat_b - lat_a\n",
        "    a = sin(dlat/2)**2 + cos(lat_a) * cos(lat_b) * sin(dlon/2)**2\n",
        "    c = 2 * atan2(sqrt(a), sqrt(1 - a))\n",
        "    return R * c"
      ],
      "execution_count": 0,
      "outputs": []
    },
    {
      "cell_type": "code",
      "metadata": {
        "id": "aA8V6FNnpbz-",
        "colab_type": "code",
        "colab": {}
      },
      "source": [
        "dots = df[['lat','lng']].dropna()"
      ],
      "execution_count": 0,
      "outputs": []
    },
    {
      "cell_type": "code",
      "metadata": {
        "id": "MikveaAkp1Zu",
        "colab_type": "code",
        "colab": {}
      },
      "source": [
        "import pandas as pd\n",
        "import numpy as np\n",
        "from math import radians, cos, sin, atan2, sqrt\n",
        "from sklearn.neighbors import KNeighborsClassifier, NearestNeighbors\n",
        "from sklearn.metrics import mean_squared_error\n",
        "from sklearn.model_selection import train_test_split, cross_val_score, KFold, RepeatedKFold\n",
        "import matplotlib.pyplot as plt\n",
        "import seaborn as sns\n",
        "\n",
        "from catboost import CatBoostRegressor\n"
      ],
      "execution_count": 0,
      "outputs": []
    },
    {
      "cell_type": "code",
      "metadata": {
        "id": "UDLKTE7ZpkYP",
        "colab_type": "code",
        "colab": {}
      },
      "source": [
        "knc = NearestNeighbors(metric=distance).fit(X=dots)"
      ],
      "execution_count": 0,
      "outputs": []
    },
    {
      "cell_type": "code",
      "metadata": {
        "id": "4ElMIdrFpqJ7",
        "colab_type": "code",
        "colab": {}
      },
      "source": [
        "distances, indexes = knc.kneighbors(X=dots, n_neighbors=6,)"
      ],
      "execution_count": 0,
      "outputs": []
    },
    {
      "cell_type": "code",
      "metadata": {
        "id": "UbC6SrdXrv7h",
        "colab_type": "code",
        "colab": {}
      },
      "source": [
        "center_coords = (30.26417, 59.89444)"
      ],
      "execution_count": 0,
      "outputs": []
    },
    {
      "cell_type": "code",
      "metadata": {
        "id": "lp5FtEFdtvUy",
        "colab_type": "code",
        "colab": {}
      },
      "source": [
        "c_dist = pd.DataFrame(df.apply(lambda x: distance(x[['lat', 'lng']], center_coords), axis = 1 ))"
      ],
      "execution_count": 0,
      "outputs": []
    },
    {
      "cell_type": "code",
      "metadata": {
        "id": "qFZs3CQiuPHa",
        "colab_type": "code",
        "colab": {}
      },
      "source": [
        "c_dist.columns = ['dist_to_center']"
      ],
      "execution_count": 0,
      "outputs": []
    },
    {
      "cell_type": "code",
      "metadata": {
        "id": "g_i72vFEub0M",
        "colab_type": "code",
        "colab": {
          "base_uri": "https://localhost:8080/",
          "height": 206
        },
        "outputId": "cc191536-13c1-4f81-b461-b2496e6e2610"
      },
      "source": [
        "c_dist.head()"
      ],
      "execution_count": 236,
      "outputs": [
        {
          "output_type": "execute_result",
          "data": {
            "text/html": [
              "<div>\n",
              "<style scoped>\n",
              "    .dataframe tbody tr th:only-of-type {\n",
              "        vertical-align: middle;\n",
              "    }\n",
              "\n",
              "    .dataframe tbody tr th {\n",
              "        vertical-align: top;\n",
              "    }\n",
              "\n",
              "    .dataframe thead th {\n",
              "        text-align: right;\n",
              "    }\n",
              "</style>\n",
              "<table border=\"1\" class=\"dataframe\">\n",
              "  <thead>\n",
              "    <tr style=\"text-align: right;\">\n",
              "      <th></th>\n",
              "      <th>dist_to_center</th>\n",
              "      <th>distance_1</th>\n",
              "      <th>distance_2</th>\n",
              "      <th>distance_3</th>\n",
              "      <th>distance_4</th>\n",
              "      <th>distance_5</th>\n",
              "    </tr>\n",
              "  </thead>\n",
              "  <tbody>\n",
              "    <tr>\n",
              "      <th>0</th>\n",
              "      <td>3973.552972</td>\n",
              "      <td>0.0</td>\n",
              "      <td>0.147547</td>\n",
              "      <td>0.900955</td>\n",
              "      <td>0.900955</td>\n",
              "      <td>0.900955</td>\n",
              "    </tr>\n",
              "    <tr>\n",
              "      <th>1</th>\n",
              "      <td>3965.207212</td>\n",
              "      <td>0.0</td>\n",
              "      <td>0.247184</td>\n",
              "      <td>0.277490</td>\n",
              "      <td>0.277490</td>\n",
              "      <td>0.346255</td>\n",
              "    </tr>\n",
              "    <tr>\n",
              "      <th>2</th>\n",
              "      <td>3965.207212</td>\n",
              "      <td>0.0</td>\n",
              "      <td>0.247184</td>\n",
              "      <td>0.277490</td>\n",
              "      <td>0.277490</td>\n",
              "      <td>0.346255</td>\n",
              "    </tr>\n",
              "    <tr>\n",
              "      <th>3</th>\n",
              "      <td>3966.880625</td>\n",
              "      <td>0.0</td>\n",
              "      <td>0.000000</td>\n",
              "      <td>0.000000</td>\n",
              "      <td>0.119962</td>\n",
              "      <td>0.200271</td>\n",
              "    </tr>\n",
              "    <tr>\n",
              "      <th>4</th>\n",
              "      <td>3966.880625</td>\n",
              "      <td>0.0</td>\n",
              "      <td>0.000000</td>\n",
              "      <td>0.000000</td>\n",
              "      <td>0.119962</td>\n",
              "      <td>0.200271</td>\n",
              "    </tr>\n",
              "  </tbody>\n",
              "</table>\n",
              "</div>"
            ],
            "text/plain": [
              "   dist_to_center  distance_1  distance_2  distance_3  distance_4  distance_5\n",
              "0     3973.552972         0.0    0.147547    0.900955    0.900955    0.900955\n",
              "1     3965.207212         0.0    0.247184    0.277490    0.277490    0.346255\n",
              "2     3965.207212         0.0    0.247184    0.277490    0.277490    0.346255\n",
              "3     3966.880625         0.0    0.000000    0.000000    0.119962    0.200271\n",
              "4     3966.880625         0.0    0.000000    0.000000    0.119962    0.200271"
            ]
          },
          "metadata": {
            "tags": []
          },
          "execution_count": 236
        }
      ]
    },
    {
      "cell_type": "code",
      "metadata": {
        "id": "r-_07po1vD-S",
        "colab_type": "code",
        "colab": {}
      },
      "source": [
        "c_dist[]"
      ],
      "execution_count": 0,
      "outputs": []
    },
    {
      "cell_type": "code",
      "metadata": {
        "id": "lpM9Fx045nkf",
        "colab_type": "code",
        "colab": {}
      },
      "source": [
        "#лучший результат для 4-5 точек\n",
        "for i in range(1,6):\n",
        "    c_dist['distance_%s'%i] = distances[:,i]\n",
        "    #c_dist['indexes_%s'%i] = indexes[:,i]"
      ],
      "execution_count": 0,
      "outputs": []
    },
    {
      "cell_type": "code",
      "metadata": {
        "id": "b_Dquf6qveSN",
        "colab_type": "code",
        "colab": {}
      },
      "source": [
        "temp = pd.concat([c_dist, df], axis=1)"
      ],
      "execution_count": 0,
      "outputs": []
    },
    {
      "cell_type": "code",
      "metadata": {
        "id": "belWNpSgvvsB",
        "colab_type": "code",
        "colab": {
          "base_uri": "https://localhost:8080/",
          "height": 626
        },
        "outputId": "920766a9-4c4b-49a1-be59-1d3c20348911"
      },
      "source": [
        "temp.head()"
      ],
      "execution_count": 238,
      "outputs": [
        {
          "output_type": "execute_result",
          "data": {
            "text/html": [
              "<div>\n",
              "<style scoped>\n",
              "    .dataframe tbody tr th:only-of-type {\n",
              "        vertical-align: middle;\n",
              "    }\n",
              "\n",
              "    .dataframe tbody tr th {\n",
              "        vertical-align: top;\n",
              "    }\n",
              "\n",
              "    .dataframe thead th {\n",
              "        text-align: right;\n",
              "    }\n",
              "</style>\n",
              "<table border=\"1\" class=\"dataframe\">\n",
              "  <thead>\n",
              "    <tr style=\"text-align: right;\">\n",
              "      <th></th>\n",
              "      <th>dist_to_center</th>\n",
              "      <th>distance_1</th>\n",
              "      <th>distance_2</th>\n",
              "      <th>distance_3</th>\n",
              "      <th>distance_4</th>\n",
              "      <th>distance_5</th>\n",
              "      <th>lat</th>\n",
              "      <th>lng</th>\n",
              "      <th>name</th>\n",
              "      <th>rating_yandex</th>\n",
              "      <th>review_count</th>\n",
              "      <th>reviews</th>\n",
              "      <th>discount_10</th>\n",
              "      <th>discount_15</th>\n",
              "      <th>discount_20</th>\n",
              "      <th>discount_50</th>\n",
              "      <th>discount_7</th>\n",
              "      <th>Завтраки в ресторане МА</th>\n",
              "      <th>Счастливые часы</th>\n",
              "      <th>барная стойка</th>\n",
              "      <th>бесплатная парковка</th>\n",
              "      <th>бранчи</th>\n",
              "      <th>винная карта</th>\n",
              "      <th>детская анимация</th>\n",
              "      <th>живая музыка</th>\n",
              "      <th>закрытие под банкет</th>\n",
              "      <th>круглосуточная кухня</th>\n",
              "      <th>кулинария</th>\n",
              "      <th>кухня_авторская</th>\n",
              "      <th>кухня_азербайджанская</th>\n",
              "      <th>кухня_азиатская</th>\n",
              "      <th>кухня_американская</th>\n",
              "      <th>кухня_английская</th>\n",
              "      <th>кухня_армянская</th>\n",
              "      <th>кухня_белорусская</th>\n",
              "      <th>кухня_веганская</th>\n",
              "      <th>кухня_вегетарианская</th>\n",
              "      <th>кухня_восточная</th>\n",
              "      <th>кухня_греческая</th>\n",
              "      <th>кухня_грузинская</th>\n",
              "      <th>кухня_домашняя</th>\n",
              "      <th>кухня_еврейская</th>\n",
              "      <th>кухня_европейская</th>\n",
              "      <th>кухня_индийская</th>\n",
              "      <th>кухня_индонезийская</th>\n",
              "      <th>кухня_ирландская</th>\n",
              "      <th>кухня_испанская</th>\n",
              "      <th>кухня_итальянская</th>\n",
              "      <th>кухня_кавказская</th>\n",
              "      <th>кухня_китайская</th>\n",
              "      <th>кухня_континентальная</th>\n",
              "      <th>кухня_корейская</th>\n",
              "      <th>кухня_латиноамериканская</th>\n",
              "      <th>кухня_международная</th>\n",
              "      <th>кухня_мексиканская</th>\n",
              "      <th>кухня_морская</th>\n",
              "      <th>кухня_мясная</th>\n",
              "      <th>кухня_национальная</th>\n",
              "      <th>кухня_немецкая</th>\n",
              "      <th>кухня_неткухня_специализации</th>\n",
              "      <th>кухня_паназиатская</th>\n",
              "      <th>кухня_русская</th>\n",
              "      <th>кухня_рыбная</th>\n",
              "      <th>кухня_сербская</th>\n",
              "      <th>кухня_скандинавская</th>\n",
              "      <th>кухня_смешанная</th>\n",
              "      <th>кухня_средиземноморская</th>\n",
              "      <th>кухня_тайская</th>\n",
              "      <th>кухня_узбекская</th>\n",
              "      <th>кухня_украинская</th>\n",
              "      <th>кухня_французская</th>\n",
              "      <th>кухня_фьюжн</th>\n",
              "      <th>кухня_чешская</th>\n",
              "      <th>кухня_шашлык</th>\n",
              "      <th>кухня_японская</th>\n",
              "      <th>меню на английском</th>\n",
              "      <th>местоположение у воды</th>\n",
              "      <th>настольные игры</th>\n",
              "      <th>своя пекарня</th>\n",
              "      <th>танцпол</th>\n",
              "    </tr>\n",
              "  </thead>\n",
              "  <tbody>\n",
              "    <tr>\n",
              "      <th>0</th>\n",
              "      <td>3973.552972</td>\n",
              "      <td>0.0</td>\n",
              "      <td>0.147547</td>\n",
              "      <td>0.900955</td>\n",
              "      <td>0.900955</td>\n",
              "      <td>0.900955</td>\n",
              "      <td>60.041867</td>\n",
              "      <td>30.340230</td>\n",
              "      <td>Кафе-бар Белые ночи</td>\n",
              "      <td>4.2</td>\n",
              "      <td>28.0</td>\n",
              "      <td>Забегаловка . Но вечером может быть весело|Хорошая кафешка, рядом ...</td>\n",
              "      <td>0.0</td>\n",
              "      <td>0.0</td>\n",
              "      <td>0.0</td>\n",
              "      <td>0.0</td>\n",
              "      <td>0.0</td>\n",
              "      <td>0.0</td>\n",
              "      <td>0.0</td>\n",
              "      <td>0.0</td>\n",
              "      <td>0.0</td>\n",
              "      <td>0.0</td>\n",
              "      <td>0.0</td>\n",
              "      <td>0.0</td>\n",
              "      <td>0.0</td>\n",
              "      <td>0.0</td>\n",
              "      <td>0.0</td>\n",
              "      <td>0.0</td>\n",
              "      <td>0.0</td>\n",
              "      <td>0.0</td>\n",
              "      <td>0.0</td>\n",
              "      <td>0.0</td>\n",
              "      <td>0.0</td>\n",
              "      <td>0.0</td>\n",
              "      <td>0.0</td>\n",
              "      <td>0.0</td>\n",
              "      <td>0.0</td>\n",
              "      <td>0.0</td>\n",
              "      <td>0.0</td>\n",
              "      <td>1.0</td>\n",
              "      <td>0.0</td>\n",
              "      <td>0.0</td>\n",
              "      <td>1.0</td>\n",
              "      <td>0.0</td>\n",
              "      <td>0.0</td>\n",
              "      <td>0.0</td>\n",
              "      <td>0.0</td>\n",
              "      <td>0.0</td>\n",
              "      <td>1.0</td>\n",
              "      <td>0.0</td>\n",
              "      <td>0.0</td>\n",
              "      <td>0.0</td>\n",
              "      <td>0.0</td>\n",
              "      <td>0.0</td>\n",
              "      <td>0.0</td>\n",
              "      <td>0.0</td>\n",
              "      <td>0.0</td>\n",
              "      <td>0.0</td>\n",
              "      <td>0.0</td>\n",
              "      <td>0.0</td>\n",
              "      <td>0.0</td>\n",
              "      <td>0.0</td>\n",
              "      <td>0.0</td>\n",
              "      <td>0.0</td>\n",
              "      <td>0.0</td>\n",
              "      <td>0.0</td>\n",
              "      <td>0.0</td>\n",
              "      <td>0.0</td>\n",
              "      <td>0.0</td>\n",
              "      <td>0.0</td>\n",
              "      <td>0.0</td>\n",
              "      <td>0.0</td>\n",
              "      <td>0.0</td>\n",
              "      <td>0.0</td>\n",
              "      <td>0.0</td>\n",
              "      <td>0.0</td>\n",
              "      <td>0.0</td>\n",
              "      <td>0.0</td>\n",
              "      <td>0.0</td>\n",
              "      <td>0.0</td>\n",
              "    </tr>\n",
              "    <tr>\n",
              "      <th>1</th>\n",
              "      <td>3965.207212</td>\n",
              "      <td>0.0</td>\n",
              "      <td>0.247184</td>\n",
              "      <td>0.277490</td>\n",
              "      <td>0.277490</td>\n",
              "      <td>0.346255</td>\n",
              "      <td>59.927757</td>\n",
              "      <td>30.332271</td>\n",
              "      <td>White Night Music Joint</td>\n",
              "      <td>4.1</td>\n",
              "      <td>105.0</td>\n",
              "      <td>Хорошая кухня, адекватные цены, джаз. Но интерьер и рассадка остав...</td>\n",
              "      <td>0.0</td>\n",
              "      <td>0.0</td>\n",
              "      <td>0.0</td>\n",
              "      <td>0.0</td>\n",
              "      <td>0.0</td>\n",
              "      <td>0.0</td>\n",
              "      <td>0.0</td>\n",
              "      <td>0.0</td>\n",
              "      <td>0.0</td>\n",
              "      <td>0.0</td>\n",
              "      <td>0.0</td>\n",
              "      <td>0.0</td>\n",
              "      <td>0.0</td>\n",
              "      <td>0.0</td>\n",
              "      <td>0.0</td>\n",
              "      <td>0.0</td>\n",
              "      <td>0.0</td>\n",
              "      <td>0.0</td>\n",
              "      <td>0.0</td>\n",
              "      <td>0.0</td>\n",
              "      <td>0.0</td>\n",
              "      <td>0.0</td>\n",
              "      <td>0.0</td>\n",
              "      <td>0.0</td>\n",
              "      <td>0.0</td>\n",
              "      <td>0.0</td>\n",
              "      <td>0.0</td>\n",
              "      <td>0.0</td>\n",
              "      <td>0.0</td>\n",
              "      <td>0.0</td>\n",
              "      <td>1.0</td>\n",
              "      <td>0.0</td>\n",
              "      <td>0.0</td>\n",
              "      <td>0.0</td>\n",
              "      <td>0.0</td>\n",
              "      <td>1.0</td>\n",
              "      <td>0.0</td>\n",
              "      <td>0.0</td>\n",
              "      <td>0.0</td>\n",
              "      <td>0.0</td>\n",
              "      <td>0.0</td>\n",
              "      <td>0.0</td>\n",
              "      <td>0.0</td>\n",
              "      <td>0.0</td>\n",
              "      <td>0.0</td>\n",
              "      <td>0.0</td>\n",
              "      <td>0.0</td>\n",
              "      <td>0.0</td>\n",
              "      <td>0.0</td>\n",
              "      <td>1.0</td>\n",
              "      <td>0.0</td>\n",
              "      <td>0.0</td>\n",
              "      <td>0.0</td>\n",
              "      <td>0.0</td>\n",
              "      <td>0.0</td>\n",
              "      <td>0.0</td>\n",
              "      <td>0.0</td>\n",
              "      <td>0.0</td>\n",
              "      <td>0.0</td>\n",
              "      <td>0.0</td>\n",
              "      <td>0.0</td>\n",
              "      <td>0.0</td>\n",
              "      <td>0.0</td>\n",
              "      <td>0.0</td>\n",
              "      <td>0.0</td>\n",
              "      <td>0.0</td>\n",
              "      <td>0.0</td>\n",
              "      <td>0.0</td>\n",
              "    </tr>\n",
              "    <tr>\n",
              "      <th>2</th>\n",
              "      <td>3965.207212</td>\n",
              "      <td>0.0</td>\n",
              "      <td>0.247184</td>\n",
              "      <td>0.277490</td>\n",
              "      <td>0.277490</td>\n",
              "      <td>0.346255</td>\n",
              "      <td>59.927757</td>\n",
              "      <td>30.332271</td>\n",
              "      <td>Kiosk59</td>\n",
              "      <td>4.4</td>\n",
              "      <td>69.0</td>\n",
              "      <td>Ещё одна кофейня, которую нужно посетить любителям кофе, Здесь Вас...</td>\n",
              "      <td>0.0</td>\n",
              "      <td>0.0</td>\n",
              "      <td>0.0</td>\n",
              "      <td>0.0</td>\n",
              "      <td>0.0</td>\n",
              "      <td>0.0</td>\n",
              "      <td>0.0</td>\n",
              "      <td>0.0</td>\n",
              "      <td>0.0</td>\n",
              "      <td>0.0</td>\n",
              "      <td>0.0</td>\n",
              "      <td>0.0</td>\n",
              "      <td>0.0</td>\n",
              "      <td>0.0</td>\n",
              "      <td>0.0</td>\n",
              "      <td>0.0</td>\n",
              "      <td>0.0</td>\n",
              "      <td>0.0</td>\n",
              "      <td>0.0</td>\n",
              "      <td>0.0</td>\n",
              "      <td>0.0</td>\n",
              "      <td>0.0</td>\n",
              "      <td>0.0</td>\n",
              "      <td>0.0</td>\n",
              "      <td>0.0</td>\n",
              "      <td>0.0</td>\n",
              "      <td>0.0</td>\n",
              "      <td>0.0</td>\n",
              "      <td>0.0</td>\n",
              "      <td>0.0</td>\n",
              "      <td>0.0</td>\n",
              "      <td>0.0</td>\n",
              "      <td>0.0</td>\n",
              "      <td>0.0</td>\n",
              "      <td>0.0</td>\n",
              "      <td>0.0</td>\n",
              "      <td>0.0</td>\n",
              "      <td>0.0</td>\n",
              "      <td>0.0</td>\n",
              "      <td>0.0</td>\n",
              "      <td>0.0</td>\n",
              "      <td>0.0</td>\n",
              "      <td>0.0</td>\n",
              "      <td>0.0</td>\n",
              "      <td>0.0</td>\n",
              "      <td>0.0</td>\n",
              "      <td>0.0</td>\n",
              "      <td>0.0</td>\n",
              "      <td>0.0</td>\n",
              "      <td>0.0</td>\n",
              "      <td>0.0</td>\n",
              "      <td>0.0</td>\n",
              "      <td>0.0</td>\n",
              "      <td>0.0</td>\n",
              "      <td>0.0</td>\n",
              "      <td>0.0</td>\n",
              "      <td>0.0</td>\n",
              "      <td>0.0</td>\n",
              "      <td>0.0</td>\n",
              "      <td>0.0</td>\n",
              "      <td>0.0</td>\n",
              "      <td>0.0</td>\n",
              "      <td>0.0</td>\n",
              "      <td>0.0</td>\n",
              "      <td>0.0</td>\n",
              "      <td>0.0</td>\n",
              "      <td>0.0</td>\n",
              "      <td>0.0</td>\n",
              "    </tr>\n",
              "    <tr>\n",
              "      <th>3</th>\n",
              "      <td>3966.880625</td>\n",
              "      <td>0.0</td>\n",
              "      <td>0.000000</td>\n",
              "      <td>0.000000</td>\n",
              "      <td>0.119962</td>\n",
              "      <td>0.200271</td>\n",
              "      <td>59.922792</td>\n",
              "      <td>30.282002</td>\n",
              "      <td>Французский дворик</td>\n",
              "      <td>2.7</td>\n",
              "      <td>8.0</td>\n",
              "      <td>Бар-кафе при гостинице КРАСНЫЕ ЗВЕЗДЫ. Вежливые девочки, но конски...</td>\n",
              "      <td>0.0</td>\n",
              "      <td>0.0</td>\n",
              "      <td>0.0</td>\n",
              "      <td>0.0</td>\n",
              "      <td>0.0</td>\n",
              "      <td>0.0</td>\n",
              "      <td>0.0</td>\n",
              "      <td>1.0</td>\n",
              "      <td>0.0</td>\n",
              "      <td>0.0</td>\n",
              "      <td>0.0</td>\n",
              "      <td>0.0</td>\n",
              "      <td>0.0</td>\n",
              "      <td>1.0</td>\n",
              "      <td>0.0</td>\n",
              "      <td>0.0</td>\n",
              "      <td>0.0</td>\n",
              "      <td>0.0</td>\n",
              "      <td>0.0</td>\n",
              "      <td>0.0</td>\n",
              "      <td>0.0</td>\n",
              "      <td>0.0</td>\n",
              "      <td>0.0</td>\n",
              "      <td>0.0</td>\n",
              "      <td>0.0</td>\n",
              "      <td>0.0</td>\n",
              "      <td>0.0</td>\n",
              "      <td>1.0</td>\n",
              "      <td>0.0</td>\n",
              "      <td>0.0</td>\n",
              "      <td>1.0</td>\n",
              "      <td>0.0</td>\n",
              "      <td>0.0</td>\n",
              "      <td>0.0</td>\n",
              "      <td>0.0</td>\n",
              "      <td>1.0</td>\n",
              "      <td>0.0</td>\n",
              "      <td>0.0</td>\n",
              "      <td>0.0</td>\n",
              "      <td>0.0</td>\n",
              "      <td>0.0</td>\n",
              "      <td>0.0</td>\n",
              "      <td>0.0</td>\n",
              "      <td>0.0</td>\n",
              "      <td>0.0</td>\n",
              "      <td>0.0</td>\n",
              "      <td>0.0</td>\n",
              "      <td>0.0</td>\n",
              "      <td>0.0</td>\n",
              "      <td>0.0</td>\n",
              "      <td>0.0</td>\n",
              "      <td>0.0</td>\n",
              "      <td>0.0</td>\n",
              "      <td>0.0</td>\n",
              "      <td>0.0</td>\n",
              "      <td>0.0</td>\n",
              "      <td>0.0</td>\n",
              "      <td>0.0</td>\n",
              "      <td>0.0</td>\n",
              "      <td>0.0</td>\n",
              "      <td>0.0</td>\n",
              "      <td>0.0</td>\n",
              "      <td>0.0</td>\n",
              "      <td>0.0</td>\n",
              "      <td>0.0</td>\n",
              "      <td>0.0</td>\n",
              "      <td>0.0</td>\n",
              "      <td>0.0</td>\n",
              "    </tr>\n",
              "    <tr>\n",
              "      <th>4</th>\n",
              "      <td>3966.880625</td>\n",
              "      <td>0.0</td>\n",
              "      <td>0.000000</td>\n",
              "      <td>0.000000</td>\n",
              "      <td>0.119962</td>\n",
              "      <td>0.200271</td>\n",
              "      <td>59.922792</td>\n",
              "      <td>30.282002</td>\n",
              "      <td>Beer House Staff</td>\n",
              "      <td>4.3</td>\n",
              "      <td>135.0</td>\n",
              "      <td>Мой отзыв от 12.04.19\\r\\r\\n\"Обслуживание так себе. Очень долгое. 1...</td>\n",
              "      <td>0.0</td>\n",
              "      <td>0.0</td>\n",
              "      <td>0.0</td>\n",
              "      <td>1.0</td>\n",
              "      <td>0.0</td>\n",
              "      <td>0.0</td>\n",
              "      <td>0.0</td>\n",
              "      <td>0.0</td>\n",
              "      <td>0.0</td>\n",
              "      <td>0.0</td>\n",
              "      <td>0.0</td>\n",
              "      <td>0.0</td>\n",
              "      <td>0.0</td>\n",
              "      <td>0.0</td>\n",
              "      <td>0.0</td>\n",
              "      <td>0.0</td>\n",
              "      <td>0.0</td>\n",
              "      <td>0.0</td>\n",
              "      <td>0.0</td>\n",
              "      <td>0.0</td>\n",
              "      <td>0.0</td>\n",
              "      <td>0.0</td>\n",
              "      <td>0.0</td>\n",
              "      <td>0.0</td>\n",
              "      <td>0.0</td>\n",
              "      <td>0.0</td>\n",
              "      <td>0.0</td>\n",
              "      <td>0.0</td>\n",
              "      <td>0.0</td>\n",
              "      <td>0.0</td>\n",
              "      <td>0.0</td>\n",
              "      <td>0.0</td>\n",
              "      <td>0.0</td>\n",
              "      <td>1.0</td>\n",
              "      <td>0.0</td>\n",
              "      <td>1.0</td>\n",
              "      <td>0.0</td>\n",
              "      <td>0.0</td>\n",
              "      <td>0.0</td>\n",
              "      <td>0.0</td>\n",
              "      <td>0.0</td>\n",
              "      <td>0.0</td>\n",
              "      <td>0.0</td>\n",
              "      <td>0.0</td>\n",
              "      <td>0.0</td>\n",
              "      <td>0.0</td>\n",
              "      <td>0.0</td>\n",
              "      <td>0.0</td>\n",
              "      <td>0.0</td>\n",
              "      <td>1.0</td>\n",
              "      <td>0.0</td>\n",
              "      <td>0.0</td>\n",
              "      <td>0.0</td>\n",
              "      <td>0.0</td>\n",
              "      <td>0.0</td>\n",
              "      <td>0.0</td>\n",
              "      <td>0.0</td>\n",
              "      <td>0.0</td>\n",
              "      <td>0.0</td>\n",
              "      <td>0.0</td>\n",
              "      <td>0.0</td>\n",
              "      <td>0.0</td>\n",
              "      <td>0.0</td>\n",
              "      <td>0.0</td>\n",
              "      <td>0.0</td>\n",
              "      <td>0.0</td>\n",
              "      <td>0.0</td>\n",
              "      <td>0.0</td>\n",
              "    </tr>\n",
              "  </tbody>\n",
              "</table>\n",
              "</div>"
            ],
            "text/plain": [
              "   dist_to_center  distance_1  ...  своя пекарня  танцпол\n",
              "0     3973.552972         0.0  ...           0.0      0.0\n",
              "1     3965.207212         0.0  ...           0.0      0.0\n",
              "2     3965.207212         0.0  ...           0.0      0.0\n",
              "3     3966.880625         0.0  ...           0.0      0.0\n",
              "4     3966.880625         0.0  ...           0.0      0.0\n",
              "\n",
              "[5 rows x 80 columns]"
            ]
          },
          "metadata": {
            "tags": []
          },
          "execution_count": 238
        }
      ]
    },
    {
      "cell_type": "code",
      "metadata": {
        "id": "96DQcfgAvxl_",
        "colab_type": "code",
        "colab": {}
      },
      "source": [
        "df =df.drop(columns = ['distance_1'])"
      ],
      "execution_count": 0,
      "outputs": []
    },
    {
      "cell_type": "code",
      "metadata": {
        "id": "Cg9RdO9CwU4F",
        "colab_type": "code",
        "colab": {
          "base_uri": "https://localhost:8080/",
          "height": 451
        },
        "outputId": "34227485-25df-4e11-e318-7e82bfa7141c"
      },
      "source": [
        "df.columns"
      ],
      "execution_count": 249,
      "outputs": [
        {
          "output_type": "execute_result",
          "data": {
            "text/plain": [
              "Index(['dist_to_center', 'distance_2', 'distance_3', 'distance_4',\n",
              "       'distance_5', 'lat', 'lng', 'name', 'rating_yandex', 'review_count',\n",
              "       'reviews', 'discount_10', 'discount_15', 'discount_20', 'discount_50',\n",
              "       'discount_7', 'Завтраки в ресторане МА', 'Счастливые часы',\n",
              "       'барная стойка', 'бесплатная парковка', 'бранчи', 'винная карта',\n",
              "       'детская анимация', 'живая музыка', 'закрытие под банкет',\n",
              "       'круглосуточная кухня', 'кулинария', 'кухня_авторская',\n",
              "       'кухня_азербайджанская', 'кухня_азиатская', 'кухня_американская',\n",
              "       'кухня_английская', 'кухня_армянская', 'кухня_белорусская',\n",
              "       'кухня_веганская', 'кухня_вегетарианская', 'кухня_восточная',\n",
              "       'кухня_греческая', 'кухня_грузинская', 'кухня_домашняя',\n",
              "       'кухня_еврейская', 'кухня_европейская', 'кухня_индийская',\n",
              "       'кухня_индонезийская', 'кухня_ирландская', 'кухня_испанская',\n",
              "       'кухня_итальянская', 'кухня_кавказская', 'кухня_китайская',\n",
              "       'кухня_континентальная', 'кухня_корейская', 'кухня_латиноамериканская',\n",
              "       'кухня_международная', 'кухня_мексиканская', 'кухня_морская',\n",
              "       'кухня_мясная', 'кухня_национальная', 'кухня_немецкая',\n",
              "       'кухня_неткухня_специализации', 'кухня_паназиатская', 'кухня_русская',\n",
              "       'кухня_рыбная', 'кухня_сербская', 'кухня_скандинавская',\n",
              "       'кухня_смешанная', 'кухня_средиземноморская', 'кухня_тайская',\n",
              "       'кухня_узбекская', 'кухня_украинская', 'кухня_французская',\n",
              "       'кухня_фьюжн', 'кухня_чешская', 'кухня_шашлык', 'кухня_японская',\n",
              "       'меню на английском', 'местоположение у воды', 'настольные игры',\n",
              "       'своя пекарня', 'танцпол'],\n",
              "      dtype='object')"
            ]
          },
          "metadata": {
            "tags": []
          },
          "execution_count": 249
        }
      ]
    },
    {
      "cell_type": "code",
      "metadata": {
        "id": "zXrI5-iBxFRK",
        "colab_type": "code",
        "colab": {}
      },
      "source": [
        "df.to_csv(path+'data/temp.csv')"
      ],
      "execution_count": 0,
      "outputs": []
    },
    {
      "cell_type": "code",
      "metadata": {
        "id": "QvTIfOsdxhYA",
        "colab_type": "code",
        "colab": {
          "base_uri": "https://localhost:8080/",
          "height": 1000
        },
        "outputId": "06ff4173-b8fd-4d62-b6ef-4ddc655b8e34"
      },
      "source": [
        "fr = h2o.import_file(path=path+'data/temp.csv')   # import prostate data\n",
        "fr.names"
      ],
      "execution_count": 251,
      "outputs": [
        {
          "output_type": "stream",
          "text": [
            "Parse progress: |█████████████████████████████████████████████████████████| 100%\n"
          ],
          "name": "stdout"
        },
        {
          "output_type": "execute_result",
          "data": {
            "text/plain": [
              "['C1',\n",
              " 'dist_to_center',\n",
              " 'distance_2',\n",
              " 'distance_3',\n",
              " 'distance_4',\n",
              " 'distance_5',\n",
              " 'lat',\n",
              " 'lng',\n",
              " 'name',\n",
              " 'rating_yandex',\n",
              " 'review_count',\n",
              " 'reviews',\n",
              " 'discount_10',\n",
              " 'discount_15',\n",
              " 'discount_20',\n",
              " 'discount_50',\n",
              " 'discount_7',\n",
              " 'Завтраки в ресторане МА',\n",
              " 'Счастливые часы',\n",
              " 'барная стойка',\n",
              " 'бесплатная парковка',\n",
              " 'бранчи',\n",
              " 'винная карта',\n",
              " 'детская анимация',\n",
              " 'живая музыка',\n",
              " 'закрытие под банкет',\n",
              " 'круглосуточная кухня',\n",
              " 'кулинария',\n",
              " 'кухня_авторская',\n",
              " 'кухня_азербайджанская',\n",
              " 'кухня_азиатская',\n",
              " 'кухня_американская',\n",
              " 'кухня_английская',\n",
              " 'кухня_армянская',\n",
              " 'кухня_белорусская',\n",
              " 'кухня_веганская',\n",
              " 'кухня_вегетарианская',\n",
              " 'кухня_восточная',\n",
              " 'кухня_греческая',\n",
              " 'кухня_грузинская',\n",
              " 'кухня_домашняя',\n",
              " 'кухня_еврейская',\n",
              " 'кухня_европейская',\n",
              " 'кухня_индийская',\n",
              " 'кухня_индонезийская',\n",
              " 'кухня_ирландская',\n",
              " 'кухня_испанская',\n",
              " 'кухня_итальянская',\n",
              " 'кухня_кавказская',\n",
              " 'кухня_китайская',\n",
              " 'кухня_континентальная',\n",
              " 'кухня_корейская',\n",
              " 'кухня_латиноамериканская',\n",
              " 'кухня_международная',\n",
              " 'кухня_мексиканская',\n",
              " 'кухня_морская',\n",
              " 'кухня_мясная',\n",
              " 'кухня_национальная',\n",
              " 'кухня_немецкая',\n",
              " 'кухня_неткухня_специализации',\n",
              " 'кухня_паназиатская',\n",
              " 'кухня_русская',\n",
              " 'кухня_рыбная',\n",
              " 'кухня_сербская',\n",
              " 'кухня_скандинавская',\n",
              " 'кухня_смешанная',\n",
              " 'кухня_средиземноморская',\n",
              " 'кухня_тайская',\n",
              " 'кухня_узбекская',\n",
              " 'кухня_украинская',\n",
              " 'кухня_французская',\n",
              " 'кухня_фьюжн',\n",
              " 'кухня_чешская',\n",
              " 'кухня_шашлык',\n",
              " 'кухня_японская',\n",
              " 'меню на английском',\n",
              " 'местоположение у воды',\n",
              " 'настольные игры',\n",
              " 'своя пекарня',\n",
              " 'танцпол']"
            ]
          },
          "metadata": {
            "tags": []
          },
          "execution_count": 251
        }
      ]
    },
    {
      "cell_type": "code",
      "metadata": {
        "id": "0qg-9Lu5v7zq",
        "colab_type": "code",
        "colab": {
          "base_uri": "https://localhost:8080/",
          "height": 52
        },
        "outputId": "2b580b24-204c-4486-8055-15aba7e9814a"
      },
      "source": [
        "from h2o.estimators.gbm import H2OGradientBoostingEstimator  # import gbm estimator\n",
        "\n",
        "m = H2OGradientBoostingEstimator(ntrees=10, max_depth=5, nfolds = 5, seed = 42)     # setup the gbm\n",
        "\n",
        "r = fr[0].runif()                       # generate a random vector for splitting\n",
        "\n",
        "train = fr[ r < 0.7 ]                   # split out 60% for training\n",
        "\n",
        "test = fr[ 0.7 <= r ]               \n",
        "\n",
        "m.train(x=fr.names[1:5]+fr.names[12:], y=\"rating_yandex\", training_frame=train \\\n",
        "        )      # train the model\n",
        "\n",
        "print(m.type)          "
      ],
      "execution_count": 256,
      "outputs": [
        {
          "output_type": "stream",
          "text": [
            "gbm Model Build progress: |███████████████████████████████████████████████| 100%\n",
            "regressor\n"
          ],
          "name": "stdout"
        }
      ]
    },
    {
      "cell_type": "code",
      "metadata": {
        "id": "d0zmK0Zuw4Q1",
        "colab_type": "code",
        "colab": {
          "base_uri": "https://localhost:8080/",
          "height": 1000
        },
        "outputId": "9a4329ed-a02b-48d1-8fcc-467e7969330f"
      },
      "source": [
        "fr.names"
      ],
      "execution_count": 248,
      "outputs": [
        {
          "output_type": "execute_result",
          "data": {
            "text/plain": [
              "['C1',\n",
              " 'dist_to_center',\n",
              " 'distance_2',\n",
              " 'distance_3',\n",
              " 'distance_4',\n",
              " 'distance_5',\n",
              " 'lat',\n",
              " 'lng',\n",
              " 'name',\n",
              " 'rating_yandex',\n",
              " 'review_count',\n",
              " 'reviews',\n",
              " 'discount_10',\n",
              " 'discount_15',\n",
              " 'discount_20',\n",
              " 'discount_50',\n",
              " 'discount_7',\n",
              " 'Завтраки в ресторане МА',\n",
              " 'Счастливые часы',\n",
              " 'барная стойка',\n",
              " 'бесплатная парковка',\n",
              " 'бранчи',\n",
              " 'винная карта',\n",
              " 'детская анимация',\n",
              " 'живая музыка',\n",
              " 'закрытие под банкет',\n",
              " 'круглосуточная кухня',\n",
              " 'кулинария',\n",
              " 'кухня_авторская',\n",
              " 'кухня_азербайджанская',\n",
              " 'кухня_азиатская',\n",
              " 'кухня_американская',\n",
              " 'кухня_английская',\n",
              " 'кухня_армянская',\n",
              " 'кухня_белорусская',\n",
              " 'кухня_веганская',\n",
              " 'кухня_вегетарианская',\n",
              " 'кухня_восточная',\n",
              " 'кухня_греческая',\n",
              " 'кухня_грузинская',\n",
              " 'кухня_домашняя',\n",
              " 'кухня_еврейская',\n",
              " 'кухня_европейская',\n",
              " 'кухня_индийская',\n",
              " 'кухня_индонезийская',\n",
              " 'кухня_ирландская',\n",
              " 'кухня_испанская',\n",
              " 'кухня_итальянская',\n",
              " 'кухня_кавказская',\n",
              " 'кухня_китайская',\n",
              " 'кухня_континентальная',\n",
              " 'кухня_корейская',\n",
              " 'кухня_латиноамериканская',\n",
              " 'кухня_международная',\n",
              " 'кухня_мексиканская',\n",
              " 'кухня_морская',\n",
              " 'кухня_мясная',\n",
              " 'кухня_национальная',\n",
              " 'кухня_немецкая',\n",
              " 'кухня_неткухня_специализации',\n",
              " 'кухня_паназиатская',\n",
              " 'кухня_русская',\n",
              " 'кухня_рыбная',\n",
              " 'кухня_сербская',\n",
              " 'кухня_скандинавская',\n",
              " 'кухня_смешанная',\n",
              " 'кухня_средиземноморская',\n",
              " 'кухня_тайская',\n",
              " 'кухня_узбекская',\n",
              " 'кухня_украинская',\n",
              " 'кухня_французская',\n",
              " 'кухня_фьюжн',\n",
              " 'кухня_чешская',\n",
              " 'кухня_шашлык',\n",
              " 'кухня_японская',\n",
              " 'меню на английском',\n",
              " 'местоположение у воды',\n",
              " 'настольные игры',\n",
              " 'своя пекарня',\n",
              " 'танцпол']"
            ]
          },
          "metadata": {
            "tags": []
          },
          "execution_count": 248
        }
      ]
    },
    {
      "cell_type": "code",
      "metadata": {
        "id": "vOPH1pRzwkT0",
        "colab_type": "code",
        "colab": {
          "base_uri": "https://localhost:8080/",
          "height": 1000
        },
        "outputId": "8a1f8986-02ce-4aef-ec0b-1713d2008b7b"
      },
      "source": [
        "m.r2\n"
      ],
      "execution_count": 253,
      "outputs": [
        {
          "output_type": "stream",
          "text": [
            "Model Details\n",
            "=============\n",
            "H2OGradientBoostingEstimator :  Gradient Boosting Machine\n",
            "Model Key:  GBM_model_python_1572783297559_13\n",
            "\n",
            "\n",
            "Model Summary: \n"
          ],
          "name": "stdout"
        },
        {
          "output_type": "display_data",
          "data": {
            "text/html": [
              "<div>\n",
              "<style scoped>\n",
              "    .dataframe tbody tr th:only-of-type {\n",
              "        vertical-align: middle;\n",
              "    }\n",
              "\n",
              "    .dataframe tbody tr th {\n",
              "        vertical-align: top;\n",
              "    }\n",
              "\n",
              "    .dataframe thead th {\n",
              "        text-align: right;\n",
              "    }\n",
              "</style>\n",
              "<table border=\"1\" class=\"dataframe\">\n",
              "  <thead>\n",
              "    <tr style=\"text-align: right;\">\n",
              "      <th></th>\n",
              "      <th></th>\n",
              "      <th>number_of_trees</th>\n",
              "      <th>number_of_internal_trees</th>\n",
              "      <th>model_size_in_bytes</th>\n",
              "      <th>min_depth</th>\n",
              "      <th>max_depth</th>\n",
              "      <th>mean_depth</th>\n",
              "      <th>min_leaves</th>\n",
              "      <th>max_leaves</th>\n",
              "      <th>mean_leaves</th>\n",
              "    </tr>\n",
              "  </thead>\n",
              "  <tbody>\n",
              "    <tr>\n",
              "      <th>0</th>\n",
              "      <td></td>\n",
              "      <td>10.0</td>\n",
              "      <td>10.0</td>\n",
              "      <td>2317.0</td>\n",
              "      <td>5.0</td>\n",
              "      <td>5.0</td>\n",
              "      <td>5.0</td>\n",
              "      <td>11.0</td>\n",
              "      <td>19.0</td>\n",
              "      <td>13.9</td>\n",
              "    </tr>\n",
              "  </tbody>\n",
              "</table>\n",
              "</div>"
            ],
            "text/plain": [
              "     number_of_trees  ...  max_leaves  mean_leaves\n",
              "0               10.0  ...        19.0         13.9\n",
              "\n",
              "[1 rows x 10 columns]"
            ]
          },
          "metadata": {
            "tags": []
          }
        },
        {
          "output_type": "stream",
          "text": [
            "\n",
            "\n",
            "ModelMetricsRegression: gbm\n",
            "** Reported on train data. **\n",
            "\n",
            "MSE: 0.22748224472810638\n",
            "RMSE: 0.47695098776300526\n",
            "MAE: 0.3137367700664063\n",
            "RMSLE: 0.10628871903510434\n",
            "Mean Residual Deviance: 0.22748224472810638\n",
            "\n",
            "ModelMetricsRegression: gbm\n",
            "** Reported on cross-validation data. **\n",
            "\n",
            "MSE: 0.26364459544220986\n",
            "RMSE: 0.5134633340777215\n",
            "MAE: 0.33817430481862193\n",
            "RMSLE: 0.11329424577809924\n",
            "Mean Residual Deviance: 0.26364459544220986\n",
            "\n",
            "Cross-Validation Metrics Summary: \n"
          ],
          "name": "stdout"
        },
        {
          "output_type": "display_data",
          "data": {
            "text/html": [
              "<div>\n",
              "<style scoped>\n",
              "    .dataframe tbody tr th:only-of-type {\n",
              "        vertical-align: middle;\n",
              "    }\n",
              "\n",
              "    .dataframe tbody tr th {\n",
              "        vertical-align: top;\n",
              "    }\n",
              "\n",
              "    .dataframe thead th {\n",
              "        text-align: right;\n",
              "    }\n",
              "</style>\n",
              "<table border=\"1\" class=\"dataframe\">\n",
              "  <thead>\n",
              "    <tr style=\"text-align: right;\">\n",
              "      <th></th>\n",
              "      <th></th>\n",
              "      <th>mean</th>\n",
              "      <th>sd</th>\n",
              "      <th>cv_1_valid</th>\n",
              "      <th>cv_2_valid</th>\n",
              "      <th>cv_3_valid</th>\n",
              "      <th>cv_4_valid</th>\n",
              "      <th>cv_5_valid</th>\n",
              "    </tr>\n",
              "  </thead>\n",
              "  <tbody>\n",
              "    <tr>\n",
              "      <th>0</th>\n",
              "      <td>mae</td>\n",
              "      <td>0.33762005</td>\n",
              "      <td>0.04429722</td>\n",
              "      <td>0.33035797</td>\n",
              "      <td>0.37713933</td>\n",
              "      <td>0.31684786</td>\n",
              "      <td>0.38543606</td>\n",
              "      <td>0.27831906</td>\n",
              "    </tr>\n",
              "    <tr>\n",
              "      <th>1</th>\n",
              "      <td>mean_residual_deviance</td>\n",
              "      <td>0.26256335</td>\n",
              "      <td>0.08154203</td>\n",
              "      <td>0.24320804</td>\n",
              "      <td>0.3390953</td>\n",
              "      <td>0.19824147</td>\n",
              "      <td>0.35614103</td>\n",
              "      <td>0.17613095</td>\n",
              "    </tr>\n",
              "    <tr>\n",
              "      <th>2</th>\n",
              "      <td>mse</td>\n",
              "      <td>0.26256335</td>\n",
              "      <td>0.08154203</td>\n",
              "      <td>0.24320804</td>\n",
              "      <td>0.3390953</td>\n",
              "      <td>0.19824147</td>\n",
              "      <td>0.35614103</td>\n",
              "      <td>0.17613095</td>\n",
              "    </tr>\n",
              "    <tr>\n",
              "      <th>3</th>\n",
              "      <td>r2</td>\n",
              "      <td>-0.027287824</td>\n",
              "      <td>0.03776472</td>\n",
              "      <td>-0.0061449283</td>\n",
              "      <td>-0.02200098</td>\n",
              "      <td>-0.08738885</td>\n",
              "      <td>-0.033372827</td>\n",
              "      <td>0.012468466</td>\n",
              "    </tr>\n",
              "    <tr>\n",
              "      <th>4</th>\n",
              "      <td>residual_deviance</td>\n",
              "      <td>0.26256335</td>\n",
              "      <td>0.08154203</td>\n",
              "      <td>0.24320804</td>\n",
              "      <td>0.3390953</td>\n",
              "      <td>0.19824147</td>\n",
              "      <td>0.35614103</td>\n",
              "      <td>0.17613095</td>\n",
              "    </tr>\n",
              "    <tr>\n",
              "      <th>5</th>\n",
              "      <td>rmse</td>\n",
              "      <td>0.5074357</td>\n",
              "      <td>0.07962711</td>\n",
              "      <td>0.49316126</td>\n",
              "      <td>0.5823189</td>\n",
              "      <td>0.44524315</td>\n",
              "      <td>0.59677553</td>\n",
              "      <td>0.41967958</td>\n",
              "    </tr>\n",
              "    <tr>\n",
              "      <th>6</th>\n",
              "      <td>rmsle</td>\n",
              "      <td>0.11135664</td>\n",
              "      <td>0.021563828</td>\n",
              "      <td>0.10777314</td>\n",
              "      <td>0.13028061</td>\n",
              "      <td>0.09180529</td>\n",
              "      <td>0.13689193</td>\n",
              "      <td>0.090032235</td>\n",
              "    </tr>\n",
              "  </tbody>\n",
              "</table>\n",
              "</div>"
            ],
            "text/plain": [
              "                                   mean  ...    cv_4_valid   cv_5_valid\n",
              "0                     mae    0.33762005  ...    0.38543606   0.27831906\n",
              "1  mean_residual_deviance    0.26256335  ...    0.35614103   0.17613095\n",
              "2                     mse    0.26256335  ...    0.35614103   0.17613095\n",
              "3                      r2  -0.027287824  ...  -0.033372827  0.012468466\n",
              "4       residual_deviance    0.26256335  ...    0.35614103   0.17613095\n",
              "5                    rmse     0.5074357  ...    0.59677553   0.41967958\n",
              "6                   rmsle    0.11135664  ...    0.13689193  0.090032235\n",
              "\n",
              "[7 rows x 8 columns]"
            ]
          },
          "metadata": {
            "tags": []
          }
        },
        {
          "output_type": "stream",
          "text": [
            "\n",
            "Scoring History: \n"
          ],
          "name": "stdout"
        },
        {
          "output_type": "display_data",
          "data": {
            "text/html": [
              "<div>\n",
              "<style scoped>\n",
              "    .dataframe tbody tr th:only-of-type {\n",
              "        vertical-align: middle;\n",
              "    }\n",
              "\n",
              "    .dataframe tbody tr th {\n",
              "        vertical-align: top;\n",
              "    }\n",
              "\n",
              "    .dataframe thead th {\n",
              "        text-align: right;\n",
              "    }\n",
              "</style>\n",
              "<table border=\"1\" class=\"dataframe\">\n",
              "  <thead>\n",
              "    <tr style=\"text-align: right;\">\n",
              "      <th></th>\n",
              "      <th></th>\n",
              "      <th>timestamp</th>\n",
              "      <th>duration</th>\n",
              "      <th>number_of_trees</th>\n",
              "      <th>training_rmse</th>\n",
              "      <th>training_mae</th>\n",
              "      <th>training_deviance</th>\n",
              "    </tr>\n",
              "  </thead>\n",
              "  <tbody>\n",
              "    <tr>\n",
              "      <th>0</th>\n",
              "      <td></td>\n",
              "      <td>2019-11-03 14:58:57</td>\n",
              "      <td>1.253 sec</td>\n",
              "      <td>0.0</td>\n",
              "      <td>0.508663</td>\n",
              "      <td>0.333185</td>\n",
              "      <td>0.258738</td>\n",
              "    </tr>\n",
              "    <tr>\n",
              "      <th>1</th>\n",
              "      <td></td>\n",
              "      <td>2019-11-03 14:58:57</td>\n",
              "      <td>1.269 sec</td>\n",
              "      <td>1.0</td>\n",
              "      <td>0.503790</td>\n",
              "      <td>0.329869</td>\n",
              "      <td>0.253804</td>\n",
              "    </tr>\n",
              "    <tr>\n",
              "      <th>2</th>\n",
              "      <td></td>\n",
              "      <td>2019-11-03 14:58:57</td>\n",
              "      <td>1.282 sec</td>\n",
              "      <td>2.0</td>\n",
              "      <td>0.499767</td>\n",
              "      <td>0.327498</td>\n",
              "      <td>0.249767</td>\n",
              "    </tr>\n",
              "    <tr>\n",
              "      <th>3</th>\n",
              "      <td></td>\n",
              "      <td>2019-11-03 14:58:57</td>\n",
              "      <td>1.300 sec</td>\n",
              "      <td>3.0</td>\n",
              "      <td>0.495257</td>\n",
              "      <td>0.324318</td>\n",
              "      <td>0.245279</td>\n",
              "    </tr>\n",
              "    <tr>\n",
              "      <th>4</th>\n",
              "      <td></td>\n",
              "      <td>2019-11-03 14:58:57</td>\n",
              "      <td>1.313 sec</td>\n",
              "      <td>4.0</td>\n",
              "      <td>0.491697</td>\n",
              "      <td>0.322352</td>\n",
              "      <td>0.241766</td>\n",
              "    </tr>\n",
              "    <tr>\n",
              "      <th>5</th>\n",
              "      <td></td>\n",
              "      <td>2019-11-03 14:58:57</td>\n",
              "      <td>1.331 sec</td>\n",
              "      <td>5.0</td>\n",
              "      <td>0.488950</td>\n",
              "      <td>0.320875</td>\n",
              "      <td>0.239072</td>\n",
              "    </tr>\n",
              "    <tr>\n",
              "      <th>6</th>\n",
              "      <td></td>\n",
              "      <td>2019-11-03 14:58:57</td>\n",
              "      <td>1.345 sec</td>\n",
              "      <td>6.0</td>\n",
              "      <td>0.485147</td>\n",
              "      <td>0.318615</td>\n",
              "      <td>0.235368</td>\n",
              "    </tr>\n",
              "    <tr>\n",
              "      <th>7</th>\n",
              "      <td></td>\n",
              "      <td>2019-11-03 14:58:57</td>\n",
              "      <td>1.357 sec</td>\n",
              "      <td>7.0</td>\n",
              "      <td>0.482197</td>\n",
              "      <td>0.316997</td>\n",
              "      <td>0.232514</td>\n",
              "    </tr>\n",
              "    <tr>\n",
              "      <th>8</th>\n",
              "      <td></td>\n",
              "      <td>2019-11-03 14:58:57</td>\n",
              "      <td>1.367 sec</td>\n",
              "      <td>8.0</td>\n",
              "      <td>0.480255</td>\n",
              "      <td>0.315832</td>\n",
              "      <td>0.230644</td>\n",
              "    </tr>\n",
              "    <tr>\n",
              "      <th>9</th>\n",
              "      <td></td>\n",
              "      <td>2019-11-03 14:58:57</td>\n",
              "      <td>1.382 sec</td>\n",
              "      <td>9.0</td>\n",
              "      <td>0.478390</td>\n",
              "      <td>0.314816</td>\n",
              "      <td>0.228857</td>\n",
              "    </tr>\n",
              "    <tr>\n",
              "      <th>10</th>\n",
              "      <td></td>\n",
              "      <td>2019-11-03 14:58:57</td>\n",
              "      <td>1.396 sec</td>\n",
              "      <td>10.0</td>\n",
              "      <td>0.476951</td>\n",
              "      <td>0.313737</td>\n",
              "      <td>0.227482</td>\n",
              "    </tr>\n",
              "  </tbody>\n",
              "</table>\n",
              "</div>"
            ],
            "text/plain": [
              "                timestamp  ... training_mae  training_deviance\n",
              "0     2019-11-03 14:58:57  ...     0.333185           0.258738\n",
              "1     2019-11-03 14:58:57  ...     0.329869           0.253804\n",
              "2     2019-11-03 14:58:57  ...     0.327498           0.249767\n",
              "3     2019-11-03 14:58:57  ...     0.324318           0.245279\n",
              "4     2019-11-03 14:58:57  ...     0.322352           0.241766\n",
              "5     2019-11-03 14:58:57  ...     0.320875           0.239072\n",
              "6     2019-11-03 14:58:57  ...     0.318615           0.235368\n",
              "7     2019-11-03 14:58:57  ...     0.316997           0.232514\n",
              "8     2019-11-03 14:58:57  ...     0.315832           0.230644\n",
              "9     2019-11-03 14:58:57  ...     0.314816           0.228857\n",
              "10    2019-11-03 14:58:57  ...     0.313737           0.227482\n",
              "\n",
              "[11 rows x 7 columns]"
            ]
          },
          "metadata": {
            "tags": []
          }
        },
        {
          "output_type": "stream",
          "text": [
            "\n",
            "Variable Importances: \n"
          ],
          "name": "stdout"
        },
        {
          "output_type": "display_data",
          "data": {
            "text/html": [
              "<div>\n",
              "<style scoped>\n",
              "    .dataframe tbody tr th:only-of-type {\n",
              "        vertical-align: middle;\n",
              "    }\n",
              "\n",
              "    .dataframe tbody tr th {\n",
              "        vertical-align: top;\n",
              "    }\n",
              "\n",
              "    .dataframe thead th {\n",
              "        text-align: right;\n",
              "    }\n",
              "</style>\n",
              "<table border=\"1\" class=\"dataframe\">\n",
              "  <thead>\n",
              "    <tr style=\"text-align: right;\">\n",
              "      <th></th>\n",
              "      <th>variable</th>\n",
              "      <th>relative_importance</th>\n",
              "      <th>scaled_importance</th>\n",
              "      <th>percentage</th>\n",
              "    </tr>\n",
              "  </thead>\n",
              "  <tbody>\n",
              "    <tr>\n",
              "      <th>0</th>\n",
              "      <td>lat</td>\n",
              "      <td>52.626740</td>\n",
              "      <td>1.000000</td>\n",
              "      <td>0.433372</td>\n",
              "    </tr>\n",
              "    <tr>\n",
              "      <th>1</th>\n",
              "      <td>dist_to_center</td>\n",
              "      <td>22.061449</td>\n",
              "      <td>0.419206</td>\n",
              "      <td>0.181672</td>\n",
              "    </tr>\n",
              "    <tr>\n",
              "      <th>2</th>\n",
              "      <td>distance_3</td>\n",
              "      <td>17.808716</td>\n",
              "      <td>0.338397</td>\n",
              "      <td>0.146652</td>\n",
              "    </tr>\n",
              "    <tr>\n",
              "      <th>3</th>\n",
              "      <td>distance_4</td>\n",
              "      <td>7.274281</td>\n",
              "      <td>0.138224</td>\n",
              "      <td>0.059902</td>\n",
              "    </tr>\n",
              "    <tr>\n",
              "      <th>4</th>\n",
              "      <td>distance_5</td>\n",
              "      <td>6.392395</td>\n",
              "      <td>0.121467</td>\n",
              "      <td>0.052640</td>\n",
              "    </tr>\n",
              "    <tr>\n",
              "      <th>5</th>\n",
              "      <td>distance_2</td>\n",
              "      <td>4.972983</td>\n",
              "      <td>0.094495</td>\n",
              "      <td>0.040952</td>\n",
              "    </tr>\n",
              "    <tr>\n",
              "      <th>6</th>\n",
              "      <td>discount_20</td>\n",
              "      <td>2.194436</td>\n",
              "      <td>0.041698</td>\n",
              "      <td>0.018071</td>\n",
              "    </tr>\n",
              "    <tr>\n",
              "      <th>7</th>\n",
              "      <td>кухня_грузинская</td>\n",
              "      <td>2.035823</td>\n",
              "      <td>0.038684</td>\n",
              "      <td>0.016765</td>\n",
              "    </tr>\n",
              "    <tr>\n",
              "      <th>8</th>\n",
              "      <td>кухня_американская</td>\n",
              "      <td>1.420938</td>\n",
              "      <td>0.027000</td>\n",
              "      <td>0.011701</td>\n",
              "    </tr>\n",
              "    <tr>\n",
              "      <th>9</th>\n",
              "      <td>кухня_китайская</td>\n",
              "      <td>1.123335</td>\n",
              "      <td>0.021345</td>\n",
              "      <td>0.009250</td>\n",
              "    </tr>\n",
              "    <tr>\n",
              "      <th>10</th>\n",
              "      <td>кухня_смешанная</td>\n",
              "      <td>1.079806</td>\n",
              "      <td>0.020518</td>\n",
              "      <td>0.008892</td>\n",
              "    </tr>\n",
              "    <tr>\n",
              "      <th>11</th>\n",
              "      <td>кухня_японская</td>\n",
              "      <td>0.950141</td>\n",
              "      <td>0.018054</td>\n",
              "      <td>0.007824</td>\n",
              "    </tr>\n",
              "    <tr>\n",
              "      <th>12</th>\n",
              "      <td>живая музыка</td>\n",
              "      <td>0.631560</td>\n",
              "      <td>0.012001</td>\n",
              "      <td>0.005201</td>\n",
              "    </tr>\n",
              "    <tr>\n",
              "      <th>13</th>\n",
              "      <td>кухня_русская</td>\n",
              "      <td>0.442874</td>\n",
              "      <td>0.008415</td>\n",
              "      <td>0.003647</td>\n",
              "    </tr>\n",
              "    <tr>\n",
              "      <th>14</th>\n",
              "      <td>кухня_домашняя</td>\n",
              "      <td>0.359538</td>\n",
              "      <td>0.006832</td>\n",
              "      <td>0.002961</td>\n",
              "    </tr>\n",
              "    <tr>\n",
              "      <th>15</th>\n",
              "      <td>кухня_паназиатская</td>\n",
              "      <td>0.060500</td>\n",
              "      <td>0.001150</td>\n",
              "      <td>0.000498</td>\n",
              "    </tr>\n",
              "    <tr>\n",
              "      <th>16</th>\n",
              "      <td>discount_50</td>\n",
              "      <td>0.000000</td>\n",
              "      <td>0.000000</td>\n",
              "      <td>0.000000</td>\n",
              "    </tr>\n",
              "    <tr>\n",
              "      <th>17</th>\n",
              "      <td>Завтраки в ресторане МА</td>\n",
              "      <td>0.000000</td>\n",
              "      <td>0.000000</td>\n",
              "      <td>0.000000</td>\n",
              "    </tr>\n",
              "    <tr>\n",
              "      <th>18</th>\n",
              "      <td>барная стойка</td>\n",
              "      <td>0.000000</td>\n",
              "      <td>0.000000</td>\n",
              "      <td>0.000000</td>\n",
              "    </tr>\n",
              "    <tr>\n",
              "      <th>19</th>\n",
              "      <td>бесплатная парковка</td>\n",
              "      <td>0.000000</td>\n",
              "      <td>0.000000</td>\n",
              "      <td>0.000000</td>\n",
              "    </tr>\n",
              "  </tbody>\n",
              "</table>\n",
              "</div>"
            ],
            "text/plain": [
              "                   variable  relative_importance  scaled_importance  percentage\n",
              "0                       lat            52.626740           1.000000    0.433372\n",
              "1            dist_to_center            22.061449           0.419206    0.181672\n",
              "2                distance_3            17.808716           0.338397    0.146652\n",
              "3                distance_4             7.274281           0.138224    0.059902\n",
              "4                distance_5             6.392395           0.121467    0.052640\n",
              "5                distance_2             4.972983           0.094495    0.040952\n",
              "6               discount_20             2.194436           0.041698    0.018071\n",
              "7          кухня_грузинская             2.035823           0.038684    0.016765\n",
              "8        кухня_американская             1.420938           0.027000    0.011701\n",
              "9           кухня_китайская             1.123335           0.021345    0.009250\n",
              "10          кухня_смешанная             1.079806           0.020518    0.008892\n",
              "11           кухня_японская             0.950141           0.018054    0.007824\n",
              "12             живая музыка             0.631560           0.012001    0.005201\n",
              "13            кухня_русская             0.442874           0.008415    0.003647\n",
              "14           кухня_домашняя             0.359538           0.006832    0.002961\n",
              "15       кухня_паназиатская             0.060500           0.001150    0.000498\n",
              "16              discount_50             0.000000           0.000000    0.000000\n",
              "17  Завтраки в ресторане МА             0.000000           0.000000    0.000000\n",
              "18            барная стойка             0.000000           0.000000    0.000000\n",
              "19      бесплатная парковка             0.000000           0.000000    0.000000"
            ]
          },
          "metadata": {
            "tags": []
          }
        },
        {
          "output_type": "stream",
          "text": [
            "\n",
            "See the whole table with table.as_data_frame()\n"
          ],
          "name": "stdout"
        },
        {
          "output_type": "execute_result",
          "data": {
            "text/plain": [
              "<bound method ModelBase.r2 of >"
            ]
          },
          "metadata": {
            "tags": []
          },
          "execution_count": 253
        }
      ]
    },
    {
      "cell_type": "code",
      "metadata": {
        "id": "Bnvhmt_Jxv0Z",
        "colab_type": "code",
        "colab": {
          "base_uri": "https://localhost:8080/",
          "height": 300
        },
        "outputId": "c3669318-223d-45f4-977e-7622174e017b"
      },
      "source": [
        "sns.regplot(x=test['rating_yandex'].as_data_frame().values.flatten(), y=m.predict(test).as_data_frame().values.flatten())"
      ],
      "execution_count": 257,
      "outputs": [
        {
          "output_type": "stream",
          "text": [
            "gbm prediction progress: |████████████████████████████████████████████████| 100%\n"
          ],
          "name": "stdout"
        },
        {
          "output_type": "execute_result",
          "data": {
            "text/plain": [
              "<matplotlib.axes._subplots.AxesSubplot at 0x7f713c7ae278>"
            ]
          },
          "metadata": {
            "tags": []
          },
          "execution_count": 257
        },
        {
          "output_type": "display_data",
          "data": {
            "image/png": "[encoded data removed]",
            "text/plain": [
              "<Figure size 432x288 with 1 Axes>"
            ]
          },
          "metadata": {
            "tags": []
          }
        }
      ]
    },
    {
      "cell_type": "code",
      "metadata": {
        "id": "qC69KMA9x_xQ",
        "colab_type": "code",
        "colab": {
          "base_uri": "https://localhost:8080/",
          "height": 300
        },
        "outputId": "6087baa1-e064-450a-820c-ec4595259639"
      },
      "source": [
        "sns.regplot(x=train['rating_yandex'].as_data_frame().values.flatten(), y=m.predict(train).as_data_frame().values.flatten())"
      ],
      "execution_count": 258,
      "outputs": [
        {
          "output_type": "stream",
          "text": [
            "gbm prediction progress: |████████████████████████████████████████████████| 100%\n"
          ],
          "name": "stdout"
        },
        {
          "output_type": "execute_result",
          "data": {
            "text/plain": [
              "<matplotlib.axes._subplots.AxesSubplot at 0x7f713c85a898>"
            ]
          },
          "metadata": {
            "tags": []
          },
          "execution_count": 258
        },
        {
          "output_type": "display_data",
          "data": {
            "image/png": "[encoded data removed]",
            "text/plain": [
              "<Figure size 432x288 with 1 Axes>"
            ]
          },
          "metadata": {
            "tags": []
          }
        }
      ]
    },
    {
      "cell_type": "code",
      "metadata": {
        "id": "DMqLSDkgyFzK",
        "colab_type": "code",
        "colab": {
          "base_uri": "https://localhost:8080/",
          "height": 1000
        },
        "outputId": "845bcc30-20c6-46d2-91bb-df3d182cde50"
      },
      "source": [
        "plt.rcParams['figure.figsize']=(14,14)\n",
        "sns.heatmap(df.corr())"
      ],
      "execution_count": 259,
      "outputs": [
        {
          "output_type": "execute_result",
          "data": {
            "text/plain": [
              "<matplotlib.axes._subplots.AxesSubplot at 0x7f713c74f4a8>"
            ]
          },
          "metadata": {
            "tags": []
          },
          "execution_count": 259
        },
        {
          "output_type": "display_data",
          "data": {
            "image/png": "[encoded data removed]",
            "text/plain": [
              "<Figure size 1008x1008 with 2 Axes>"
            ]
          },
          "metadata": {
            "tags": []
          }
        }
      ]
    },
    {
      "cell_type": "code",
      "metadata": {
        "id": "DkwgAOoxyZr1",
        "colab_type": "code",
        "colab": {}
      },
      "source": [
        "cat_params = {'loss_function': 'RMSE', 'bootstrap_type': 'Poisson', 'subsample': 0.8, \"task_type\" : 'GPU',\n",
        "              'verbose': 0, 'depth': 13, 'iterations': 323, 'learning_rate': 0.08076600634041904}"
      ],
      "execution_count": 0,
      "outputs": []
    },
    {
      "cell_type": "code",
      "metadata": {
        "id": "Cr90RciAy2T4",
        "colab_type": "code",
        "colab": {}
      },
      "source": [
        "cat = CatBoostRegressor(**cat_params, random_state=42)"
      ],
      "execution_count": 0,
      "outputs": []
    },
    {
      "cell_type": "code",
      "metadata": {
        "id": "J6ZbOSPN1Rro",
        "colab_type": "code",
        "colab": {}
      },
      "source": [
        "label = df['rating_yandex']"
      ],
      "execution_count": 0,
      "outputs": []
    },
    {
      "cell_type": "code",
      "metadata": {
        "id": "UUcpWa9M4SgX",
        "colab_type": "code",
        "colab": {}
      },
      "source": [
        "label = boxcox(label)[0]"
      ],
      "execution_count": 0,
      "outputs": []
    },
    {
      "cell_type": "code",
      "metadata": {
        "id": "xsFlrgYV1XwO",
        "colab_type": "code",
        "colab": {}
      },
      "source": [
        "df = df.drop(columns = ['rating_yandex'])"
      ],
      "execution_count": 0,
      "outputs": []
    },
    {
      "cell_type": "code",
      "metadata": {
        "id": "mDpgg8G61xd8",
        "colab_type": "code",
        "colab": {
          "base_uri": "https://localhost:8080/",
          "height": 34
        },
        "outputId": "caebc411-e86b-41a0-d54a-7d72dbeecb58"
      },
      "source": [
        "df.shape"
      ],
      "execution_count": 269,
      "outputs": [
        {
          "output_type": "execute_result",
          "data": {
            "text/plain": [
              "(1067, 76)"
            ]
          },
          "metadata": {
            "tags": []
          },
          "execution_count": 269
        }
      ]
    },
    {
      "cell_type": "code",
      "metadata": {
        "id": "36EezR7f199z",
        "colab_type": "code",
        "colab": {}
      },
      "source": [
        "df = df.drop(columns = ['name', 'reviews'])"
      ],
      "execution_count": 0,
      "outputs": []
    },
    {
      "cell_type": "code",
      "metadata": {
        "id": "HksMu8Rv2KJi",
        "colab_type": "code",
        "colab": {}
      },
      "source": [
        "df = df.fillna(0)"
      ],
      "execution_count": 0,
      "outputs": []
    },
    {
      "cell_type": "code",
      "metadata": {
        "id": "u8gNWTvK2cmo",
        "colab_type": "code",
        "colab": {}
      },
      "source": [
        " cols  = [ i for i in range(7,75)]"
      ],
      "execution_count": 0,
      "outputs": []
    },
    {
      "cell_type": "code",
      "metadata": {
        "id": "UEDfzzrJ3CYm",
        "colab_type": "code",
        "colab": {}
      },
      "source": [
        "df[df.columns[cols]] = df[df.columns[cols]].astype(int)"
      ],
      "execution_count": 0,
      "outputs": []
    },
    {
      "cell_type": "code",
      "metadata": {
        "id": "BYxLY1Oz0jcR",
        "colab_type": "code",
        "colab": {}
      },
      "source": [
        "# initialize Pool\n",
        "from catboost import Pool, CatBoostRegressor, cv\n",
        "from sklearn.model_selection import train_test_split\n",
        "train, test, train_label, test_label = train_test_split(\n",
        "     df, label,  test_size=0.3, random_state=42)\n",
        "\n",
        "\n",
        "train_pool = Pool(train, \n",
        "                  train_label, \n",
        "                  cat_features=cols)\n",
        "test_pool = Pool(test, \n",
        "                 cat_features=cols) \n",
        "\n",
        "params = {  \n",
        "    'iterations':200, \n",
        "    'depth':8, \n",
        "    'learning_rate' : 0.1, \n",
        "    'subsample' : 0.8,\n",
        "    'loss_function' : 'RMSE', 'verbose':0\n",
        "    \n",
        "}\n",
        "# specify the training parameters \n",
        "model = CatBoostRegressor(**params)\n",
        "#train the model\n",
        "#cv(train_pool, params)\n",
        "# make the prediction using the resulting model\n",
        "model.fit(train_pool)\n",
        "preds = model.predict(test_pool)\n",
        "#print(preds)"
      ],
      "execution_count": 0,
      "outputs": []
    },
    {
      "cell_type": "code",
      "metadata": {
        "id": "MsjYZQcF42Z0",
        "colab_type": "code",
        "colab": {}
      },
      "source": [
        "from sklearn.metrics import mean_squared_error, r2_score\n",
        "from sklearn.model_selection import train_test_split\n",
        "\n",
        "def get_score(y_true, y_pred):\n",
        "  return dict(\n",
        "    corr=np.corrcoef(y_true, y_pred)[0][1],\n",
        "    rmse=mean_squared_error(y_true, y_pred)**0.5,\n",
        "    r2=r2_score(y_true, y_pred))"
      ],
      "execution_count": 0,
      "outputs": []
    },
    {
      "cell_type": "code",
      "metadata": {
        "id": "oOCw4W7j42wi",
        "colab_type": "code",
        "colab": {
          "base_uri": "https://localhost:8080/",
          "height": 69
        },
        "outputId": "3378ea21-aba9-4a1a-b580-827be86f9e57"
      },
      "source": [
        "get_score(test_label, preds)"
      ],
      "execution_count": 306,
      "outputs": [
        {
          "output_type": "execute_result",
          "data": {
            "text/plain": [
              "{'corr': 0.4271190737943979,\n",
              " 'r2': 0.13862293883863475,\n",
              " 'rmse': 55.281609963939765}"
            ]
          },
          "metadata": {
            "tags": []
          },
          "execution_count": 306
        }
      ]
    },
    {
      "cell_type": "code",
      "metadata": {
        "colab_type": "code",
        "id": "ExVEyeHN40w_",
        "colab": {}
      },
      "source": [
        "cat_params = {'loss_function': 'RMSE', 'bootstrap_type': 'Poisson', 'subsample': 0.8, \"task_type\" : 'GPU',\n",
        "              'verbose': 0, 'depth': 13, 'iterations': 323, 'learning_rate': 0.08076600634041904}"
      ],
      "execution_count": 0,
      "outputs": []
    },
    {
      "cell_type": "code",
      "metadata": {
        "id": "Skgqz4mU2xN8",
        "colab_type": "code",
        "colab": {}
      },
      "source": [
        "from sklearn.metrics import "
      ],
      "execution_count": 0,
      "outputs": []
    },
    {
      "cell_type": "code",
      "metadata": {
        "colab_type": "code",
        "outputId": "077f3b43-94ec-475b-b15d-0fcd1fc53909",
        "id": "-XL4k8Eh3opu",
        "colab": {
          "base_uri": "https://localhost:8080/",
          "height": 826
        }
      },
      "source": [
        "sns.regplot(x=test_label, y=preds)"
      ],
      "execution_count": 301,
      "outputs": [
        {
          "output_type": "execute_result",
          "data": {
            "text/plain": [
              "<matplotlib.axes._subplots.AxesSubplot at 0x7f713b6227f0>"
            ]
          },
          "metadata": {
            "tags": []
          },
          "execution_count": 301
        },
        {
          "output_type": "display_data",
          "data": {
            "image/png": "[encoded data removed]",
            "text/plain": [
              "<Figure size 1008x1008 with 1 Axes>"
            ]
          },
          "metadata": {
            "tags": []
          }
        }
      ]
    },
    {
      "cell_type": "code",
      "metadata": {
        "id": "rs7rKmHF3xSS",
        "colab_type": "code",
        "colab": {}
      },
      "source": [
        ""
      ],
      "execution_count": 0,
      "outputs": []
    }
  ]
}